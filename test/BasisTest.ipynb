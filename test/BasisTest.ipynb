{
 "cells": [
  {
   "attachments": {},
   "cell_type": "markdown",
   "metadata": {},
   "source": [
    "# Basis Test"
   ]
  },
  {
   "cell_type": "code",
   "execution_count": 1,
   "metadata": {},
   "outputs": [],
   "source": [
    "# Import package\n",
    "using LinearAlgebra, Plots, Test\n",
    "DEV = true\n",
    "if DEV    # use local package\n",
    "    include(\"../src/EDKit.jl\")\n",
    "    using .EDKit\n",
    "else      # use EDKit in the Pkg system\n",
    "    using EDKit\n",
    "end"
   ]
  },
  {
   "attachments": {},
   "cell_type": "markdown",
   "metadata": {},
   "source": [
    "## ProjectedBasis"
   ]
  },
  {
   "cell_type": "code",
   "execution_count": 2,
   "metadata": {},
   "outputs": [
    {
     "name": "stdout",
     "output_type": "stream",
     "text": [
      "\u001b[0m\u001b[1mTest Summary: | \u001b[22m\u001b[32m\u001b[1mPass  \u001b[22m\u001b[39m\u001b[36m\u001b[1mTotal  \u001b[22m\u001b[39m\u001b[0m\u001b[1mTime\u001b[22m\n",
      "XY Model      | \u001b[32m   2  \u001b[39m\u001b[36m    2  \u001b[39m\u001b[0m1.3s\n",
      "\u001b[0m\u001b[1mTest Summary: | \u001b[22m"
     ]
    },
    {
     "name": "stdout",
     "output_type": "stream",
     "text": [
      "\u001b[32m\u001b[1mPass  \u001b[22m\u001b[39m\u001b[36m\u001b[1mTotal  \u001b[22m\u001b[39m\u001b[0m\u001b[1mTime\u001b[22m\n",
      "XY: small N   | \u001b[32m   2  \u001b[39m\u001b[36m    2  \u001b[39m\u001b[0m0.1s\n"
     ]
    }
   ],
   "source": [
    "@testset \"XY Model\" begin\n",
    "    L = 10\n",
    "    mat = spin((1, \"xx\"), (1, \"yy\"))\n",
    "    E = zeros(2^L)\n",
    "    P = 0\n",
    "    for n = 0:L\n",
    "        basis = ProjectedBasis(L=L, N=n, small_N=false)\n",
    "        if (l = size(basis, 1)) > 0\n",
    "            vals = trans_inv_operator(mat, 2, basis) |> Hermitian |> eigvals\n",
    "            E[P+1:P+l] = vals\n",
    "            P += l\n",
    "        end\n",
    "    end\n",
    "    @test P == 2^L\n",
    "    vals = trans_inv_operator(mat, 2, L) |> Hermitian |> eigvals\n",
    "    @test vals ≈ sort!(E)\n",
    "end;\n",
    "\n",
    "@testset \"XY: small N\" begin\n",
    "    L = 10\n",
    "    mat = spin((1, \"xx\"), (1, \"yy\"))\n",
    "    E = zeros(2^L)\n",
    "    P = 0\n",
    "    for n = 0:L\n",
    "        basis = ProjectedBasis(L=L, N=n, small_N=true)\n",
    "        if (l = size(basis, 1)) > 0\n",
    "            vals = trans_inv_operator(mat, 2, basis) |> Hermitian |> eigvals\n",
    "            E[P+1:P+l] = vals\n",
    "            P += l\n",
    "        end\n",
    "    end\n",
    "    @test P == 2^L\n",
    "    vals = trans_inv_operator(mat, 2, L) |> Array |> Hermitian |> eigvals\n",
    "    @test vals ≈ sort!(E)\n",
    "end;"
   ]
  },
  {
   "attachments": {},
   "cell_type": "markdown",
   "metadata": {},
   "source": [
    "Bench mark for small-N method:"
   ]
  },
  {
   "cell_type": "code",
   "execution_count": 3,
   "metadata": {},
   "outputs": [
    {
     "name": "stdout",
     "output_type": "stream",
     "text": [
      "  2.278783 seconds (115 allocations: 624.836 KiB)\n",
      "  0.022741 seconds (727.96 k allocations: 23.238 MiB)\n"
     ]
    },
    {
     "name": "stdout",
     "output_type": "stream",
     "text": [
      "  0.774164 seconds (132 allocations: 85.398 KiB)\n",
      "  0.000906 seconds (22.67 k allocations: 731.281 KiB)\n"
     ]
    }
   ],
   "source": [
    "@time ProjectedBasis(L=28, N=4, small_N=false);\n",
    "@time ProjectedBasis(L=28, N=4, small_N=true);\n",
    "@time ProjectedBasis(L=12, N=4, base=5, small_N=false);\n",
    "@time ProjectedBasis(L=12, N=4, base=5, small_N=true);"
   ]
  },
  {
   "cell_type": "code",
   "execution_count": 4,
   "metadata": {},
   "outputs": [
    {
     "name": "stdout",
     "output_type": "stream",
     "text": [
      "  0.002916 seconds (89.16 k allocations: 2.529 MiB)\n",
      "  0.008637 seconds (260.35 k allocations: 6.935 MiB)\n"
     ]
    },
    {
     "name": "stdout",
     "output_type": "stream",
     "text": [
      "  0.055742 seconds (1.86 M allocations: 45.831 MiB, 11.72% gc time)\n"
     ]
    }
   ],
   "source": [
    "@time ProjectedBasis(L=16, N=4, base=5, small_N=true);\n",
    "@time ProjectedBasis(L=20, N=4, base=5, small_N=true);\n",
    "@time ProjectedBasis(L=30, N=4, base=5, small_N=true);"
   ]
  },
  {
   "cell_type": "code",
   "execution_count": 5,
   "metadata": {},
   "outputs": [
    {
     "data": {
      "text/plain": [
       "ProjectedBasis{BigInt}([0, 0, 0, 0, 0, 0, 0, 0, 0, 0  …  0, 0, 0, 0, 0, 0, 0, 0, 0, 0], BigInt[5, 9, 13, 17, 21, 29, 33, 37, 41, 53  …  558793640136718750001, 558794021606445312501, 558795928955078125001, 558805465698242187501, 558853149414062500001, 559091567993164062501, 560283660888671875001, 566244125366210937501, 596046447753906250001, 745058059692382812501], 5)"
      ]
     },
     "metadata": {},
     "output_type": "display_data"
    }
   ],
   "source": [
    "a = ProjectedBasis(BigInt, L=30, N=4, base=5, small_N=true)\n",
    "a"
   ]
  },
  {
   "attachments": {},
   "cell_type": "markdown",
   "metadata": {},
   "source": [
    "## TranslationalBasis"
   ]
  },
  {
   "cell_type": "code",
   "execution_count": 6,
   "metadata": {},
   "outputs": [
    {
     "name": "stdout",
     "output_type": "stream",
     "text": [
      "\u001b[0m\u001b[1mTest Summary: | \u001b[22m\u001b[32m\u001b[1mPass  \u001b[22m\u001b[39m\u001b[36m\u001b[1mTotal  \u001b[22m\u001b[39m\u001b[0m\u001b[1mTime\u001b[22m\n",
      "XY Model      | \u001b[32m   2  \u001b[39m\u001b[36m    2  \u001b[39m\u001b[0m0.9s\n",
      "\u001b[0m\u001b[1mTest Summary: | \u001b[22m"
     ]
    },
    {
     "name": "stdout",
     "output_type": "stream",
     "text": [
      "\u001b[32m\u001b[1mPass  \u001b[22m\u001b[39m\u001b[36m\u001b[1mTotal  \u001b[22m\u001b[39m\u001b[0m\u001b[1mTime\u001b[22m\n",
      "XY: small-N   | \u001b[32m   2  \u001b[39m\u001b[36m    2  \u001b[39m\u001b[0m0.4s\n"
     ]
    }
   ],
   "source": [
    "@testset \"XY Model\" begin\n",
    "    L = 10\n",
    "    θ = 0.34\n",
    "    expθ = exp(-1im*θ)\n",
    "    mat = spin((expθ, \"+-\"), (1/expθ, \"-+\"), (1, \"z1\"), (1, \"1z\"))\n",
    "    E = zeros(2^L)\n",
    "    P = 0\n",
    "    for n = 0:L, k = 0:L-1\n",
    "        basis = TranslationalBasis(L=L, N=n, k=k, small_N=false)\n",
    "        if (l = size(basis,1)) > 0\n",
    "            vals = trans_inv_operator(mat, 2, basis) |> Array |> Hermitian |> eigvals\n",
    "            E[P+1:P+l] = vals\n",
    "            P += l\n",
    "        end\n",
    "    end\n",
    "    @test P == 2^L\n",
    "    vals = trans_inv_operator(mat, 2, L) |> Array |> Hermitian |> eigvals\n",
    "    @test vals ≈ sort!(E)\n",
    "end\n",
    "@testset \"XY: small-N\" begin\n",
    "    L = 10\n",
    "    θ = 0.34\n",
    "    expθ = exp(-1im*θ)\n",
    "    mat = spin((expθ, \"+-\"), (1/expθ, \"-+\"), (1, \"z1\"), (1, \"1z\"))\n",
    "    E = zeros(2^L)\n",
    "    P = 0\n",
    "    for n = 0:L, k = 0:L-1\n",
    "        basis = TranslationalBasis(L=L, N=n, k=k)\n",
    "        if (l = size(basis,1)) > 0\n",
    "            vals = trans_inv_operator(mat, 2, basis) |> Array |> Hermitian |> eigvals\n",
    "            E[P+1:P+l] = vals\n",
    "            P += l\n",
    "        end\n",
    "    end\n",
    "    @test P == 2^L\n",
    "    vals = trans_inv_operator(mat, 2, L) |> Array |> Hermitian |> eigvals\n",
    "    @test vals ≈ sort!(E)\n",
    "end;"
   ]
  },
  {
   "attachments": {},
   "cell_type": "markdown",
   "metadata": {},
   "source": [
    "Benchmark"
   ]
  },
  {
   "cell_type": "code",
   "execution_count": 7,
   "metadata": {},
   "outputs": [
    {
     "name": "stdout",
     "output_type": "stream",
     "text": [
      "  3.755735 seconds (109 allocations: 147.562 KiB)\n",
      "  0.026756 seconds (768.91 k allocations: 24.226 MiB)\n"
     ]
    }
   ],
   "source": [
    "@time TranslationalBasis(L=28, N=4, k=0, small_N=false);\n",
    "@time TranslationalBasis(L=28, N=4, k=0, small_N=true);"
   ]
  },
  {
   "cell_type": "code",
   "execution_count": 8,
   "metadata": {},
   "outputs": [
    {
     "name": "stdout",
     "output_type": "stream",
     "text": [
      "  3.581278 seconds (75.78 M allocations: 1.238 GiB, 20.40% gc time, 3.49% compilation time)\n"
     ]
    },
    {
     "data": {
      "text/plain": [
       "2290-element Vector{BigInt}:\n",
       "         16\n",
       "         24\n",
       "         28\n",
       "         30\n",
       "         40\n",
       "         44\n",
       "         46\n",
       "         52\n",
       "         54\n",
       "         58\n",
       "          ⋮\n",
       "  537133314\n",
       "  537133570\n",
       "  537134082\n",
       "  537395458\n",
       "  537395714\n",
       "  537396226\n",
       "  537920002\n",
       "  537920514\n",
       " 1074791426"
      ]
     },
     "metadata": {},
     "output_type": "display_data"
    }
   ],
   "source": [
    "@time b=TranslationalBasis(BigInt, L=40, N=4, k=0, small_N=true);\n",
    "b.I"
   ]
  },
  {
   "attachments": {},
   "cell_type": "markdown",
   "metadata": {},
   "source": [
    "## TranslationParityBasis"
   ]
  },
  {
   "cell_type": "code",
   "execution_count": 9,
   "metadata": {},
   "outputs": [
    {
     "name": "stdout",
     "output_type": "stream",
     "text": [
      "\u001b[0m\u001b[1mTest Summary: | \u001b[22m\u001b[32m\u001b[1mPass  \u001b[22m\u001b[39m\u001b[36m\u001b[1mTotal  \u001b[22m\u001b[39m\u001b[0m\u001b[1mTime\u001b[22m\n",
      "XY Model      | \u001b[32m  70  \u001b[39m\u001b[36m   70  \u001b[39m\u001b[0m0.3s\n",
      "\u001b[0m\u001b[1mTest Summary: | \u001b[22m"
     ]
    },
    {
     "name": "stdout",
     "output_type": "stream",
     "text": [
      "\u001b[32m\u001b[1mPass  \u001b[22m\u001b[39m\u001b[36m\u001b[1mTotal  \u001b[22m\u001b[39m\u001b[0m\u001b[1mTime\u001b[22m\n",
      "XY: small-N   | \u001b[32m  70  \u001b[39m\u001b[36m   70  \u001b[39m\u001b[0m0.2s\n"
     ]
    }
   ],
   "source": [
    "@testset \"XY Model\" begin\n",
    "    mat = spin((1, \"+-\"), (1, \"-+\"), (1, \"z1\"), (1, \"1z\"))\n",
    "    for L = 2:2:10\n",
    "        for n = 0:L, k in [0, L ÷ 2]\n",
    "            be = TranslationParityBasis(N=n, k=k, p=+1, L=L, small_N=false)\n",
    "            bo = TranslationParityBasis(N=n, k=k, p=-1, L=L, small_N=false)\n",
    "            ba = TranslationalBasis(N=n, k=k, L=L, small_N=false)\n",
    "            ve = trans_inv_operator(mat, 2, be) |> Array |> Hermitian |> eigvals\n",
    "            vo = trans_inv_operator(mat, 2, bo) |> Array |> Hermitian |> eigvals\n",
    "            va = trans_inv_operator(mat, 2, ba) |> Array |> Hermitian |> eigvals\n",
    "            E = sort(vcat(ve, vo))\n",
    "            @test norm(E-va) ≈ 0.0 atol = 1e-12\n",
    "            #be2 = TranslationParityBasis(N=n, k=k, p=+1, L=L, small_N=false)\n",
    "            #bo2 = TranslationParityBasis(N=n, k=k, p=-1, L=L, small_N=false)\n",
    "            #@test be2.I == be.I && be2.R == be.R\n",
    "            #@test bo2.I == bo.I && bo2.R == bo.R\n",
    "        end\n",
    "    end\n",
    "end\n",
    "@testset \"XY: small-N\" begin\n",
    "    mat = spin((1, \"+-\"), (1, \"-+\"), (1, \"z1\"), (1, \"1z\"))\n",
    "    for L = 2:2:10\n",
    "        for n = 0:L, k in [0, L ÷ 2]\n",
    "            be = TranslationParityBasis(N=n, k=k, p=+1, L=L)\n",
    "            bo = TranslationParityBasis(N=n, k=k, p=-1, L=L)\n",
    "            ba = TranslationalBasis(N=n, k=k, L=L)\n",
    "            ve = trans_inv_operator(mat, 2, be) |> Array |> Hermitian |> eigvals\n",
    "            vo = trans_inv_operator(mat, 2, bo) |> Array |> Hermitian |> eigvals\n",
    "            va = trans_inv_operator(mat, 2, ba) |> Array |> Hermitian |> eigvals\n",
    "            E = sort(vcat(ve, vo))\n",
    "            @test norm(E-va) ≈ 0.0 atol = 1e-12\n",
    "        end\n",
    "    end\n",
    "end;"
   ]
  },
  {
   "attachments": {},
   "cell_type": "markdown",
   "metadata": {},
   "source": [
    "Benchmark"
   ]
  },
  {
   "cell_type": "code",
   "execution_count": 10,
   "metadata": {},
   "outputs": [
    {
     "name": "stdout",
     "output_type": "stream",
     "text": [
      "  4.019973 seconds (91.39 M allocations: 1.486 GiB, 21.35% gc time, 0.62% compilation time)\n"
     ]
    },
    {
     "data": {
      "text/plain": [
       "1050-element Vector{BigInt}:\n",
       "        24\n",
       "        40\n",
       "        44\n",
       "        72\n",
       "        76\n",
       "        78\n",
       "        84\n",
       "       136\n",
       "       140\n",
       "       142\n",
       "         ⋮\n",
       " 268566786\n",
       " 268567042\n",
       " 268567554\n",
       " 268697730\n",
       " 268697858\n",
       " 268698114\n",
       " 268960002\n",
       " 537133314\n",
       " 537395714"
      ]
     },
     "metadata": {},
     "output_type": "display_data"
    }
   ],
   "source": [
    "@time b=TranslationParityBasis(BigInt, L=40, N=4, k=0, p=-1, small_N=true);\n",
    "b.I"
   ]
  }
 ],
 "metadata": {
  "kernelspec": {
   "display_name": "Julia 1.9.0",
   "language": "julia",
   "name": "julia-1.9"
  },
  "language_info": {
   "file_extension": ".jl",
   "mimetype": "application/julia",
   "name": "julia",
   "version": "1.9.0"
  },
  "orig_nbformat": 4
 },
 "nbformat": 4,
 "nbformat_minor": 2
}
