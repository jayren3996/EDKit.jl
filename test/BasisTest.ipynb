{
 "cells": [
  {
   "attachments": {},
   "cell_type": "markdown",
   "metadata": {},
   "source": [
    "# Basis Test"
   ]
  },
  {
   "cell_type": "code",
   "execution_count": 1,
   "metadata": {},
   "outputs": [],
   "source": [
    "# Import package\n",
    "using LinearAlgebra, Plots, Test\n",
    "DEV = true\n",
    "if DEV    # use local package\n",
    "    include(\"../src/EDKit.jl\")\n",
    "    using .EDKit\n",
    "else      # use EDKit in the Pkg system\n",
    "    using EDKit\n",
    "end"
   ]
  },
  {
   "cell_type": "code",
   "execution_count": 2,
   "metadata": {},
   "outputs": [],
   "source": [
    "begin\n",
    "    mat = spin((1, \"xx\"), (1, \"yy\"))\n",
    "    for L = 2:6\n",
    "        b1 = ParityFlipBasis(L=L, p=+1, z=+1)\n",
    "        b2 = ParityFlipBasis(L=L, p=+1, z=-1)\n",
    "        b3 = ParityFlipBasis(L=L, p=-1, z=+1)\n",
    "        b4 = ParityFlipBasis(L=L, p=-1, z=-1)\n",
    "        \n",
    "        Ea = trans_inv_operator(mat, 2, L) |> Hermitian |> eigvals\n",
    "        E1 = trans_inv_operator(mat, 2, b1) |> Hermitian |> eigvals\n",
    "        E2 = trans_inv_operator(mat, 2, b2) |> Hermitian |> eigvals\n",
    "        E3 = trans_inv_operator(mat, 2, b3) |> Hermitian |> eigvals\n",
    "        E4 = trans_inv_operator(mat, 2, b4) |> Hermitian |> eigvals\n",
    "        E = sort(vcat(E1, E2, E3, E4))\n",
    "        norm(Ea - E) > 1e-12 && \"Check L=$L\"\n",
    "    end\n",
    "end"
   ]
  },
  {
   "cell_type": "code",
   "execution_count": 4,
   "metadata": {},
   "outputs": [
    {
     "name": "stdout",
     "output_type": "stream",
     "text": [
      "[2, 1, 0, 1]\n"
     ]
    },
    {
     "data": {
      "text/plain": [
       "4-element Vector{Vector{Int64}}:\n",
       " [1, 2]\n",
       " [1]\n",
       " []\n",
       " [2]"
      ]
     },
     "metadata": {},
     "output_type": "display_data"
    }
   ],
   "source": [
    "size.([b1,b2,b3,b4],1) |> println \n",
    "[b.I for b in [b1,b2,b3,b4]]"
   ]
  },
  {
   "cell_type": "code",
   "execution_count": 7,
   "metadata": {},
   "outputs": [],
   "source": []
  }
 ],
 "metadata": {
  "kernelspec": {
   "display_name": "Julia 1.9.0",
   "language": "julia",
   "name": "julia-1.9"
  },
  "language_info": {
   "file_extension": ".jl",
   "mimetype": "application/julia",
   "name": "julia",
   "version": "1.9.0"
  },
  "orig_nbformat": 4
 },
 "nbformat": 4,
 "nbformat_minor": 2
}
