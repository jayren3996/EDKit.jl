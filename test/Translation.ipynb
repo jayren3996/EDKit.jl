{
 "cells": [
  {
   "cell_type": "code",
   "execution_count": 1,
   "metadata": {},
   "outputs": [],
   "source": [
    "using LinearAlgebra, Test\n",
    "DEV = true\n",
    "if DEV    # use local package\n",
    "    include(\"../src/EDKit.jl\")\n",
    "    using .EDKit\n",
    "else      # use EDKit in the Pkg system\n",
    "    using EDKit\n",
    "end"
   ]
  },
  {
   "attachments": {},
   "cell_type": "markdown",
   "metadata": {},
   "source": [
    "## Translation Basis"
   ]
  },
  {
   "cell_type": "code",
   "execution_count": 2,
   "metadata": {},
   "outputs": [],
   "source": [
    "# Use to show digit\n",
    "function printdgt!(B)\n",
    "    num = size(B, 1)\n",
    "    if iszero(num)\n",
    "        println(\"Nothing\")\n",
    "    else\n",
    "        for i in 1:size(B, 1)\n",
    "            change!(B, i)\n",
    "            print(\"|\"); print.(B.dgt); print(\"⟩, \") \n",
    "        end\n",
    "        print(\"\\n\")\n",
    "    end\n",
    "end;"
   ]
  },
  {
   "cell_type": "code",
   "execution_count": 3,
   "metadata": {},
   "outputs": [
    {
     "name": "stdout",
     "output_type": "stream",
     "text": [
      "Charge-conserving: \u001b[91m\u001b[1mError During Test\u001b[22m\u001b[39m at "
     ]
    },
    {
     "name": "stdout",
     "output_type": "stream",
     "text": [
      "\u001b[39m\u001b[1m/Users/ren/Documents/GitHub/EDKit/test/Translation.ipynb:11\u001b[22m\n",
      "  Got exception outside of a @test\n",
      "  UndefVarError: `show_info` not defined\n",
      "  Stacktrace:\n",
      "    [1] \u001b[0m\u001b[1mmacro expansion\u001b[22m\n",
      "  \u001b[90m    @\u001b[39m \u001b[90m~/Documents/GitHub/EDKit/test/\u001b[39m\u001b[90m\u001b[4mTranslation.ipynb:12\u001b[24m\u001b[39m\u001b[90m [inlined]\u001b[39m\n",
      "    [2] \u001b[0m\u001b[1mmacro expansion\u001b[22m\n",
      "  \u001b[90m    @\u001b[39m \u001b[90m/Applications/Julia-1.9.app/Contents/Resources/julia/share/julia/stdlib/v1.9/Test/src/\u001b[39m\u001b[90m\u001b[4mTest.jl:1498\u001b[24m\u001b[39m\u001b[90m [inlined]\u001b[39m\n",
      "    [3] top-level scope\n",
      "  \u001b[90m    @\u001b[39m \u001b[90m~/Documents/GitHub/EDKit/test/\u001b[39m\u001b[90m\u001b[4mTranslation.ipynb:12\u001b[24m\u001b[39m\n",
      "    [4] \u001b[0m\u001b[1meval\u001b[22m\n",
      "  \u001b[90m    @\u001b[39m \u001b[90m./\u001b[39m\u001b[90m\u001b[4mboot.jl:370\u001b[24m\u001b[39m\u001b[90m [inlined]\u001b[39m\n",
      "    [5] \u001b[0m\u001b[1minclude_string\u001b[22m\u001b[0m\u001b[1m(\u001b[22m\u001b[90mmapexpr\u001b[39m::\u001b[0mtypeof(REPL.softscope), \u001b[90mmod\u001b[39m::\u001b[0mModule, \u001b[90mcode\u001b[39m::\u001b[0mString, \u001b[90mfilename\u001b[39m::\u001b[0mString\u001b[0m\u001b[1m)\u001b[22m\n",
      "  \u001b[90m    @\u001b[39m \u001b[90mBase\u001b[39m \u001b[90m./\u001b[39m\u001b[90m\u001b[4mloading.jl:1864\u001b[24m\u001b[39m\n",
      "    [6] \u001b[0m\u001b[1m#invokelatest#2\u001b[22m\n",
      "  \u001b[90m    @\u001b[39m \u001b[90m./\u001b[39m\u001b[90m\u001b[4messentials.jl:816\u001b[24m\u001b[39m\u001b[90m [inlined]\u001b[39m\n",
      "    [7] \u001b[0m\u001b[1minvokelatest\u001b[22m\n",
      "  \u001b[90m    @\u001b[39m \u001b[90m./\u001b[39m\u001b[90m\u001b[4messentials.jl:813\u001b[24m\u001b[39m\u001b[90m [inlined]\u001b[39m\n",
      "    [8] \u001b[0m\u001b[1m(::VSCodeServer.var\"#198#199\"{VSCodeServer.NotebookRunCellArguments, String})\u001b[22m\u001b[0m\u001b[1m(\u001b[22m\u001b[0m\u001b[1m)\u001b[22m\n",
      "  \u001b[90m    @\u001b[39m \u001b[35mVSCodeServer\u001b[39m \u001b[90m~/.vscode/extensions/julialang.language-julia-1.47.2/scripts/packages/VSCodeServer/src/\u001b[39m\u001b[90m\u001b[4mserve_notebook.jl:19\u001b[24m\u001b[39m\n",
      "    [9] \u001b[0m\u001b[1mwithpath\u001b[22m\u001b[0m\u001b[1m(\u001b[22m\u001b[90mf\u001b[39m::\u001b[0mVSCodeServer.var\"#198#199\"\u001b[90m{VSCodeServer.NotebookRunCellArguments, String}\u001b[39m, \u001b[90mpath\u001b[39m::\u001b[0mString\u001b[0m\u001b[1m)\u001b[22m\n",
      "  \u001b[90m    @\u001b[39m \u001b[35mVSCodeServer\u001b[39m \u001b[90m~/.vscode/extensions/julialang.language-julia-1.47.2/scripts/packages/VSCodeServer/src/\u001b[39m\u001b[90m\u001b[4mrepl.jl:249\u001b[24m\u001b[39m\n",
      "   [10] \u001b[0m\u001b[1mnotebook_runcell_request\u001b[22m\u001b[0m\u001b[1m(\u001b[22m\u001b[90mconn\u001b[39m::\u001b[0mVSCodeServer.JSONRPC.JSONRPCEndpoint\u001b[90m{Base.PipeEndpoint, Base.PipeEndpoint}\u001b[39m, \u001b[90mparams\u001b[39m::\u001b[0mVSCodeServer.NotebookRunCellArguments\u001b[0m\u001b[1m)\u001b[22m\n",
      "  \u001b[90m    @\u001b[39m \u001b[35mVSCodeServer\u001b[39m \u001b[90m~/.vscode/extensions/julialang.language-julia-1.47.2/scripts/packages/VSCodeServer/src/\u001b[39m\u001b[90m\u001b[4mserve_notebook.jl:13\u001b[24m\u001b[39m\n",
      "   [11] \u001b[0m\u001b[1mdispatch_msg\u001b[22m\u001b[0m\u001b[1m(\u001b[22m\u001b[90mx\u001b[39m::\u001b[0mVSCodeServer.JSONRPC.JSONRPCEndpoint\u001b[90m{Base.PipeEndpoint, Base.PipeEndpoint}\u001b[39m, \u001b[90mdispatcher\u001b[39m::\u001b[0mVSCodeServer.JSONRPC.MsgDispatcher, \u001b[90mmsg\u001b[39m::\u001b[0mDict\u001b[90m{String, Any}\u001b[39m\u001b[0m\u001b[1m)\u001b[22m\n",
      "  \u001b[90m    @\u001b[39m \u001b[35mVSCodeServer.JSONRPC\u001b[39m \u001b[90m~/.vscode/extensions/julialang.language-julia-1.47.2/scripts/packages/JSONRPC/src/\u001b[39m\u001b[90m\u001b[4mtyped.jl:67\u001b[24m\u001b[39m\n",
      "   [12] \u001b[0m\u001b[1mserve_notebook\u001b[22m\u001b[0m\u001b[1m(\u001b[22m\u001b[90mpipename\u001b[39m::\u001b[0mString, \u001b[90moutputchannel_logger\u001b[39m::\u001b[0mBase.CoreLogging.SimpleLogger; \u001b[90mcrashreporting_pipename\u001b[39m::\u001b[0mString\u001b[0m\u001b[1m)\u001b[22m\n",
      "  \u001b[90m    @\u001b[39m \u001b[35mVSCodeServer\u001b[39m \u001b[90m~/.vscode/extensions/julialang.language-julia-1.47.2/scripts/packages/VSCodeServer/src/\u001b[39m\u001b[90m\u001b[4mserve_notebook.jl:139\u001b[24m\u001b[39m\n",
      "   [13] top-level scope\n",
      "  \u001b[90m    @\u001b[39m \u001b[90m~/.vscode/extensions/julialang.language-julia-1.47.2/scripts/notebook/\u001b[39m\u001b[90m\u001b[4mnotebook.jl:32\u001b[24m\u001b[39m\n",
      "   [14] \u001b[0m\u001b[1minclude\u001b[22m\u001b[0m\u001b[1m(\u001b[22m\u001b[90mmod\u001b[39m::\u001b[0mModule, \u001b[90m_path\u001b[39m::\u001b[0mString\u001b[0m\u001b[1m)\u001b[22m\n",
      "  \u001b[90m    @\u001b[39m \u001b[90mBase\u001b[39m \u001b[90m./\u001b[39m\u001b[90m\u001b[4mBase.jl:457\u001b[24m\u001b[39m\n",
      "   [15] \u001b[0m\u001b[1mexec_options\u001b[22m\u001b[0m\u001b[1m(\u001b[22m\u001b[90mopts\u001b[39m::\u001b[0mBase.JLOptions\u001b[0m\u001b[1m)\u001b[22m\n",
      "  \u001b[90m    @\u001b[39m \u001b[90mBase\u001b[39m \u001b[90m./\u001b[39m\u001b[90m\u001b[4mclient.jl:307\u001b[24m\u001b[39m\n",
      "   [16] \u001b[0m\u001b[1m_start\u001b[22m\u001b[0m\u001b[1m(\u001b[22m\u001b[0m\u001b[1m)\u001b[22m\n",
      "  \u001b[90m    @\u001b[39m \u001b[90mBase\u001b[39m \u001b[90m./\u001b[39m\u001b[90m\u001b[4mclient.jl:522\u001b[24m\u001b[39m\n",
      "\u001b[0m\u001b[1mTest Summary:     | \u001b[22m"
     ]
    },
    {
     "name": "stdout",
     "output_type": "stream",
     "text": [
      "\u001b[91m\u001b[1mError  \u001b[22m\u001b[39m\u001b[36m\u001b[1mTotal  \u001b[22m\u001b[39m\u001b[0m\u001b[1mTime\u001b[22m\n",
      "Charge-conserving | \u001b[91m    1  \u001b[39m\u001b[36m    1  \u001b[39m\u001b[0m0.6s\n"
     ]
    },
    {
     "ename": "TestSetException",
     "evalue": "Some tests did not pass: 0 passed, 0 failed, 1 errored, 0 broken.",
     "output_type": "error",
     "traceback": [
      "Some tests did not pass: 0 passed, 0 failed, 1 errored, 0 broken.\n",
      "\n",
      "Stacktrace:\n",
      " [1] finish(ts::Test.DefaultTestSet)\n",
      "   @ Test /Applications/Julia-1.9.app/Contents/Resources/julia/share/julia/stdlib/v1.9/Test/src/Test.jl:1151\n",
      " [2] macro expansion\n",
      "   @ /Applications/Julia-1.9.app/Contents/Resources/julia/share/julia/stdlib/v1.9/Test/src/Test.jl:1514 [inlined]\n",
      " [3] top-level scope\n",
      "   @ ~/Documents/GitHub/EDKit/test/Translation.ipynb:12"
     ]
    }
   ],
   "source": [
    "function show_info_1(L, N, k, a)\n",
    "    println(\"-----------------------\\nL=$L, N=$N, k=$k, a=$a:\\n-----------------------\");\n",
    "    basis = TranslationalBasis(L=L, k=k, N=N, a=a)\n",
    "    print(\"Digit: \")\n",
    "    printdgt!(basis)\n",
    "    print(\"Norm : \")\n",
    "    println(basis.R);\n",
    "    basis\n",
    "end\n",
    "\n",
    "@testset \"Charge-conserving\" begin\n",
    "    b = show_info(4, 0, 0, 1)\n",
    "    @test size(b, 1) == 1\n",
    "    @test norm(b, 1) ≈ 4\n",
    "\n",
    "    b = show_info(4, 0, 1, 1)\n",
    "    @test size(b, 1) == 0\n",
    "\n",
    "    b = show_info(4, 0, 1, 2)\n",
    "    @test size(b, 1) ≈ 0\n",
    "\n",
    "    b = show_info(4, 1, 0, 1)\n",
    "    @test size(b, 1) == 1\n",
    "    @test norm(b, 1) ≈ 2\n",
    "\n",
    "    b = show_info(4, 1, 1, 1)\n",
    "    @test size(b, 1) == 1\n",
    "    @test norm(b, 1) ≈ 2\n",
    "\n",
    "    b = show_info(4, 1, 0, 2)\n",
    "    @test size(b, 1) == 2\n",
    "    @test norm(b, 1) ≈ sqrt(2)\n",
    "\n",
    "    b = show_info(4, 1, 1, 2)\n",
    "    @test size(b, 1) == 2\n",
    "    @test norm(b, 1) ≈ sqrt(2)\n",
    "end;"
   ]
  },
  {
   "attachments": {},
   "cell_type": "markdown",
   "metadata": {},
   "source": [
    "## TranslationParity"
   ]
  },
  {
   "cell_type": "code",
   "execution_count": 4,
   "metadata": {},
   "outputs": [
    {
     "name": "stdout",
     "output_type": "stream",
     "text": [
      "-----------------------\n",
      "L=4, N=0, k=0, p=1, a=1:\n",
      "-----------------------\n",
      "Digit: |0000⟩, \n",
      "Norm : "
     ]
    },
    {
     "name": "stdout",
     "output_type": "stream",
     "text": [
      "[8.0]\n",
      "-----------------------\n",
      "L=4, N=0, k=0, p=-1, a=1:\n",
      "-----------------------\n",
      "Digit: Nothing\n",
      "Norm : Float64[]\n",
      "-----------------------\n",
      "L=4, N=0, k=2, p=1, a=1:\n",
      "-----------------------\n",
      "Digit: Nothing\n",
      "Norm : Float64[]\n",
      "-----------------------\n",
      "L=2, N=1, k=0, p=1, a=1:\n",
      "-----------------------\n",
      "Digit: |01⟩, \n",
      "Norm : [2.82842712474619]\n",
      "\u001b[0m\u001b[1mTest Summary:     |\u001b[22m\u001b[0m\u001b[1mTime\u001b[22m\n",
      "Charge-conserving | \u001b[36mNone  \u001b[39m\u001b[0m0.5s\n"
     ]
    }
   ],
   "source": [
    "function show_info(;L, N, k, p, a)\n",
    "    println(\"-----------------------\\nL=$L, N=$N, k=$k, p=$p, a=$a:\\n-----------------------\");\n",
    "    basis = TranslationParityBasis(L=L, k=k, N=N, p=p, a=a)\n",
    "    print(\"Digit: \")\n",
    "    printdgt!(basis)\n",
    "    print(\"Norm : \")\n",
    "    println(basis.R);\n",
    "    basis\n",
    "end\n",
    "\n",
    "@testset \"Charge-conserving\" begin\n",
    "    b = show_info(L=4, N=0, k=0, p=1, a=1)\n",
    "    #@test size(b, 1) == 1\n",
    "    #@test norm(b, 1) ≈ 8\n",
    "\n",
    "    b = show_info(L=4, N=0, k=0, p=-1, a=1)\n",
    "    #@test size(b, 1) == 0\n",
    "\n",
    "    b = show_info(L=4, N=0, k=2, p=1, a=1)\n",
    "    #@test size(b, 1) == 0\n",
    "\n",
    "    b = show_info(L=2, N=1, k=0, p=1, a=1)\n",
    "    #@test size(b, 1) == 1\n",
    "end;"
   ]
  },
  {
   "cell_type": "code",
   "execution_count": 5,
   "metadata": {},
   "outputs": [
    {
     "name": "stdout",
     "output_type": "stream",
     "text": [
      "-----------------------\n",
      "L=2, N=1, k=1, p=-1, a=1:\n",
      "-----------------------\n",
      "Digit: |01⟩, \n",
      "Norm : [2.82842712474619]\n"
     ]
    },
    {
     "data": {
      "text/plain": [
       "TranslationParityBasis{Int64}([0, 1], [2], [2.82842712474619], [1, -1], -1, 1, 2)"
      ]
     },
     "metadata": {},
     "output_type": "display_data"
    }
   ],
   "source": [
    "b = show_info(L=2, N=1, k=1, p=-1, a=1)"
   ]
  },
  {
   "cell_type": "code",
   "execution_count": 6,
   "metadata": {},
   "outputs": [
    {
     "name": "stdout",
     "output_type": "stream",
     "text": [
      "-----------------------\n",
      "L=5, N=2, k=1, a=1:\n",
      "-----------------------\n",
      "Digit: |00011⟩, |00101⟩, \n",
      "Norm : [2.23606797749979, 2.23606797749979]\n"
     ]
    },
    {
     "data": {
      "text/plain": [
       "TranslationalBasis{Int64, ComplexF64}([0, 0, 1, 0, 1], [4, 6], [2.23606797749979, 2.23606797749979], ComplexF64[1.0 - 0.0im, 0.30901699437494745 - 0.9510565162951535im, -0.8090169943749473 - 0.5877852522924732im, -0.8090169943749475 + 0.587785252292473im, 0.30901699437494723 + 0.9510565162951536im], 1, 2)"
      ]
     },
     "metadata": {},
     "output_type": "display_data"
    }
   ],
   "source": [
    "function show_info_1(;L, N, k, a)\n",
    "    println(\"-----------------------\\nL=$L, N=$N, k=$k, a=$a:\\n-----------------------\");\n",
    "    basis = TranslationalBasis(L=L, k=k, N=N, a=a)\n",
    "    print(\"Digit: \")\n",
    "    printdgt!(basis)\n",
    "    print(\"Norm : \")\n",
    "    println(basis.R);\n",
    "    basis\n",
    "end\n",
    "\n",
    "b = show_info_1(L=5, N=2, k=1, a=1)"
   ]
  },
  {
   "cell_type": "code",
   "execution_count": 30,
   "metadata": {},
   "outputs": [
    {
     "name": "stdout",
     "output_type": "stream",
     "text": [
      "-----------------------\n",
      "L=2, N=1, k=1, a=1:\n",
      "-----------------------\n",
      "Digit: |01⟩, \n",
      "Norm : [1.414213562373095]\n"
     ]
    }
   ],
   "source": [
    "b = show_info_1(L=2, N=1, k=1, a=1);"
   ]
  },
  {
   "cell_type": "code",
   "execution_count": 35,
   "metadata": {},
   "outputs": [
    {
     "data": {
      "text/plain": [
       "2×2 Matrix{Float64}:\n",
       "  0.0       0.707107\n",
       " -0.707107  0.0"
      ]
     },
     "metadata": {},
     "output_type": "display_data"
    }
   ],
   "source": [
    "v = [1]\n",
    "EDKit.schmidt(v, 1:1, b)"
   ]
  },
  {
   "cell_type": "code",
   "execution_count": 34,
   "metadata": {},
   "outputs": [
    {
     "data": {
      "text/plain": [
       "2-element Vector{Float64}:\n",
       " 0.7071067811865476\n",
       " 0.7071067811865476"
      ]
     },
     "metadata": {},
     "output_type": "display_data"
    }
   ],
   "source": [
    "val = EDKit.ent_spec(v, 1:1, b)"
   ]
  },
  {
   "cell_type": "code",
   "execution_count": 36,
   "metadata": {},
   "outputs": [
    {
     "data": {
      "text/plain": [
       "2×2 Matrix{Float64}:\n",
       " 0.0       0.707107\n",
       " 0.707107  0.0"
      ]
     },
     "metadata": {},
     "output_type": "display_data"
    }
   ],
   "source": [
    "v = [0, 1, 1, 0] |> normalize\n",
    "EDKit.schmidt(v, 1:1, TensorBasis(L=2))"
   ]
  },
  {
   "cell_type": "code",
   "execution_count": 48,
   "metadata": {},
   "outputs": [
    {
     "data": {
      "text/plain": [
       "1.276653692689251"
      ]
     },
     "metadata": {},
     "output_type": "display_data"
    }
   ],
   "source": [
    "b = TranslationalBasis(L=10,N=5,k=0)\n",
    "v = ones(size(b,1))|>normalize\n",
    "ent_S(v,1:5,b)"
   ]
  },
  {
   "cell_type": "code",
   "execution_count": 39,
   "metadata": {},
   "outputs": [
    {
     "data": {
      "text/plain": [
       "TranslationalBasis{Int64, Float64}([0, 1], [2], [1.414213562373095], [1.0, -1.0], 1, 2)"
      ]
     },
     "metadata": {},
     "output_type": "display_data"
    }
   ],
   "source": [
    "b"
   ]
  },
  {
   "cell_type": "code",
   "execution_count": 46,
   "metadata": {},
   "outputs": [
    {
     "data": {
      "text/plain": [
       "TranslationalBasis{Int64, ComplexF64}([0, 0, 0, 0, 0, 0, 0, 0, 0, 0], [4, 6, 10, 18], [3.162277660168379, 3.162277660168379, 3.162277660168379, 3.162277660168379], ComplexF64[1.0 - 0.0im, 0.8090169943749475 - 0.5877852522924731im, 0.30901699437494745 - 0.9510565162951535im, -0.30901699437494734 - 0.9510565162951536im, -0.8090169943749473 - 0.5877852522924732im, -1.0 - 1.2246467991473532e-16im, -0.8090169943749475 + 0.587785252292473im, -0.30901699437494756 + 0.9510565162951535im, 0.30901699437494723 + 0.9510565162951536im, 0.8090169943749473 + 0.5877852522924734im], 1, 2)"
      ]
     },
     "metadata": {},
     "output_type": "display_data"
    }
   ],
   "source": [
    "b = TranslationalBasis(L=10, N=2, k=1)"
   ]
  },
  {
   "cell_type": "code",
   "execution_count": 47,
   "metadata": {},
   "outputs": [
    {
     "data": {
      "text/plain": [
       "32-element Vector{Float64}:\n",
       " 0.6324555320336759\n",
       " 0.6324555320336758\n",
       " 0.31622776601683794\n",
       " 0.31622776601683783\n",
       " 4.3186812173721336e-17\n",
       " 2.652093457054458e-17\n",
       " 3.74882337563857e-18\n",
       " 1.330283059320525e-33\n",
       " 4.850162514562787e-34\n",
       " 3.656382187162855e-50\n",
       " ⋮\n",
       " 0.0\n",
       " 0.0\n",
       " 0.0\n",
       " 0.0\n",
       " 0.0\n",
       " 0.0\n",
       " 0.0\n",
       " 0.0\n",
       " 0.0"
      ]
     },
     "metadata": {},
     "output_type": "display_data"
    }
   ],
   "source": [
    "ent_spec([1], 1:5, b)"
   ]
  },
  {
   "cell_type": "code",
   "execution_count": 49,
   "metadata": {},
   "outputs": [
    {
     "data": {
      "text/plain": [
       "729-element Vector{Float64}:\n",
       " 1.190829532682147\n",
       " 1.1471017782144701\n",
       " 1.460799538176479\n",
       " 1.360292172757131\n",
       " 1.7661644475790872\n",
       " 1.4580658177877375\n",
       " 1.7281899667746141\n",
       " 1.2473947239511438\n",
       " 1.7847288658295795\n",
       " 1.7354639670749357\n",
       " ⋮\n",
       " 1.7521370660823137\n",
       " 1.6407390922655605\n",
       " 1.6676265842041675\n",
       " 1.6868661733332624\n",
       " 1.6539074083059968\n",
       " 1.256446310545011\n",
       " 1.0333260253871897\n",
       " 1.1222391204100453\n",
       " 1.1302646584176896"
      ]
     },
     "metadata": {},
     "output_type": "display_data"
    }
   ],
   "source": [
    "L = 6\n",
    "h = rand()\n",
    "rh = begin\n",
    "    vecs = zeros(ComplexF64, 9, 4)\n",
    "    vecs[8,1] = 1\n",
    "    vecs[6,1] = -1\n",
    "    vecs[7,2] = 1\n",
    "    vecs[3,2] = -1\n",
    "    vecs[4,3] = 1\n",
    "    vecs[2,3] = -1\n",
    "    vecs[3,4] = 1\n",
    "    vecs[5,4] = -1\n",
    "    vecs[7,4] = 1\n",
    "    rm = rand(ComplexF64, 4,4) .- 0.5 |> Hermitian |> Array\n",
    "    vecs * rm * vecs'\n",
    "end\n",
    "H  = trans_inv_operator(rh, 2, L)\n",
    "H += trans_inv_operator(spin((h, \"z\"), D=3), 1, L)\n",
    "E, V = Array(H) |> Hermitian |> eigen\n",
    "\n",
    "inds = 1:L÷2\n",
    "ts = Float64[]\n",
    "for i = 0:L-1\n",
    "    tb = TranslationalBasis(k=i, L=L, base = 3)\n",
    "    H  = trans_inv_operator(rh, 2, tb)\n",
    "    H += trans_inv_operator(spin((h, \"z\"), D=3), 1, tb)\n",
    "    e, v = Array(H) |> Hermitian |> eigen\n",
    "    ee = [ent_S(v[:, i], inds, tb) for i=1:size(v, 2)]\n",
    "    append!(ts, ee)\n",
    "end\n",
    "EE = [ent_S(V[:, i], inds, TensorBasis(L=L, base=3)) for i=1:size(V, 2)]"
   ]
  },
  {
   "cell_type": "code",
   "execution_count": 50,
   "metadata": {},
   "outputs": [
    {
     "data": {
      "text/plain": [
       "0.44685977903125884"
      ]
     },
     "metadata": {},
     "output_type": "display_data"
    }
   ],
   "source": [
    "h"
   ]
  },
  {
   "cell_type": "code",
   "execution_count": 74,
   "metadata": {},
   "outputs": [
    {
     "name": "stdout",
     "output_type": "stream",
     "text": [
      "[1.732765167249634, 2.2679922711636498, 2.37259923477273, 2.362499468504235, 2.340655967560863, 2.4106750174478413, 2.369033630225111, 2.5089575362355583, 2.5180742627508423, 2.463625881993398, 2.587105911563905, 2.5792730929667917, 2.534534821499161, 2.5222926267401817, 2.5855545205461086, 2.6160537388000633, 2.5981813230398014, 2.590168204819945, 2.5737053838612725, 2.676982335901359, 2.7015250926243133, 2.698710124829857, 2.6545743215153066, 2.675420710352485, 2.715202947712499, 2.6726367111046545, 2.6944245529623694, 2.70265088621532, 2.4913609563650225, 2.588053729848057, 2.7311490339793, 2.342570410016261, 2.652913598402467, 2.701742958652652, 2.5426187217992973, 2.6820423755730025, 2.776460920140795, 2.788808453575073, 2.733426196386697, 2.762037731231172, 2.7280639942522784, 2.7261698802595618, 2.7556256219379613, 2.660403049924625, 2.7363449176766754, 1.5244853358843027, 2.803645767946231, 2.8125940806990917, 2.740725199543008, 2.689965878315516, 2.7882392802482046, 2.0502185263290453, 2.7183574534545873, 2.7817621003494817, 2.7667504966577288, 2.406151627772623, 2.8109075375935153, 2.533857642622631, 2.697157441822576, 2.7429323555007197, 2.763873057803044, 2.699477759859631, 2.7370536039090263, 2.6171731847839435, 2.6747852512669863, 2.769741752775421, 2.778324515909291, 2.498756590752133, 2.766788994484757, 2.787990628215736, 2.7911800015439723, 2.7581540041132655, 2.7195756183898725, 2.787953053165861, 2.7110160005352575, 2.7725708312241215, 2.7742787360175005, 2.7958647283698337, 2.720473371051842, 2.7382519533678398, 2.7592898062316222, 2.623913999157172, 2.6997656655855784, 2.690389959732502, 2.7035271371113776, 2.7538905733880816, 2.67646887387961, 2.7242979999668955, 2.7087707608960283, 2.734124759473007, 2.6742167069380653, 2.7310685966964927, 2.6974858808586957, 2.550155044392725, 2.6864653306369735, 2.693372860259082, 2.647185091153899, 2.6835306762874342, 2.627778041673828, 2.6369491682811073, 2.6263486971774452, 2.6705673319653735, 2.634455725567338, 2.6707080375964423, 2.6531839143473546, 2.6245635859546974, 2.539135998711682, 2.5422819402507857, 2.5159596924478276, 2.52278194572376, 2.617640868389106, 2.544207629999117, 2.297168311087249, 2.5216677736063797, 2.1225987098770447, 2.477406787138671, 2.468309923655586, 2.331118983450998, 2.3762513042087297, 1.9938210810242556, 2.387913733821743, 2.3314263829944375, 2.189771251806873, 1.8503008909319676]"
     ]
    }
   ],
   "source": [
    "i = 2\n",
    "tb = TranslationalBasis(k=i, L=L, base=3)\n",
    "H  = trans_inv_operator(rh, 2, tb)\n",
    "H += trans_inv_operator(spin((h, \"z\"), D=3), 1, tb)\n",
    "e, v = Array(H) |> Hermitian |> eigen\n",
    "ee = [ent_S(v[:, i], inds, tb) for i=1:size(v, 2)]\n",
    "print(ee)"
   ]
  },
  {
   "cell_type": "code",
   "execution_count": 82,
   "metadata": {},
   "outputs": [
    {
     "data": {
      "text/plain": [
       "124-element Vector{Float64}:\n",
       " -10.795258437626782\n",
       " -10.009427207319266\n",
       "  -8.946444583375543\n",
       "  -8.088096317002444\n",
       "  -7.961777309677815\n",
       "  -7.276263664499716\n",
       "  -6.9945578285978165\n",
       "  -6.795394771310527\n",
       "  -6.271330868568793\n",
       "  -6.1866919259785895\n",
       "   ⋮\n",
       "   4.329364103958257\n",
       "   4.463421488060556\n",
       "   4.782813560002337\n",
       "   4.974215132194553\n",
       "   5.062931429671648\n",
       "   5.489234767146038\n",
       "   6.13030897604012\n",
       "   6.494644494017515\n",
       "   7.141104679321491"
      ]
     },
     "metadata": {},
     "output_type": "display_data"
    }
   ],
   "source": [
    "trans_inv_operator(rh, 2, tb) |> Hermitian |> eigvals"
   ]
  },
  {
   "cell_type": "code",
   "execution_count": 78,
   "metadata": {},
   "outputs": [
    {
     "name": "stdout",
     "output_type": "stream",
     "text": [
      "ComplexF64[0.0 + 0.0im 0.0 + 0.0im 0.0 + 0.0im 0.0 + 0.0im 0.0 + 0.0im 0.0 + 0.0im 0.0 + 0.0im 0.0 + 0.0im 0.0 + 0.0im; 0.0 + 0.0im -0.1843003682801232 + 0.0im 0.03009774994789305 - 1.2621121358872887im 0.1843003682801232 + 0.0im -0.40858044473669597 + 0.9148120365983794im -0.4103841666107012 - 0.32744632068191437im 0.7870631395254989 - 0.5675119373094701im 0.4103841666107012 + 0.32744632068191437im 0.0 + 0.0im; 0.0 + 0.0im 0.03009774994789305 + 1.2621121358872887im -1.1799421489083886 + 0.0im -0.03009774994789305 - 1.2621121358872887im 0.6598017545545928 + 0.389999548416467im -0.4373438978697294 - 0.16942942711436093im -0.139661360200797 - 0.779999096832934im 0.4373438978697294 + 0.16942942711436093im 0.0 + 0.0im; 0.0 + 0.0im 0.1843003682801232 + 0.0im -0.03009774994789305 + 1.2621121358872887im -0.1843003682801232 + 0.0im 0.40858044473669597 - 0.9148120365983794im 0.4103841666107012 + 0.32744632068191437im -0.7870631395254989 + 0.5675119373094701im -0.4103841666107012 - 0.32744632068191437im 0.0 + 0.0im; 0.0 + 0.0im -0.40858044473669597 - 0.9148120365983794im 0.6598017545545928 - 0.389999548416467im 0.40858044473669597 + 0.9148120365983794im -0.30813121334206084 + 0.0im 0.12521351025176808 - 0.09773464684714506im -0.0435393278704711 + 0.389999548416467im -0.12521351025176808 + 0.09773464684714506im 0.0 + 0.0im; 0.0 + 0.0im -0.4103841666107012 + 0.32744632068191437im -0.4373438978697294 + 0.16942942711436093im 0.4103841666107012 - 0.32744632068191437im 0.12521351025176808 + 0.09773464684714506im 0.4011085909012142 + 0.0im 0.18691687736619322 - 0.36489872080865104im -0.4011085909012142 + 0.0im 0.0 + 0.0im; 0.0 + 0.0im 0.7870631395254989 + 0.5675119373094701im -0.139661360200797 + 0.779999096832934im -0.7870631395254989 - 0.5675119373094701im -0.0435393278704711 - 0.389999548416467im 0.18691687736619322 + 0.36489872080865104im 0.2267400159417392 + 0.0im -0.18691687736619322 - 0.36489872080865104im 0.0 + 0.0im; 0.0 + 0.0im 0.4103841666107012 - 0.32744632068191437im 0.4373438978697294 - 0.16942942711436093im -0.4103841666107012 + 0.32744632068191437im -0.12521351025176808 - 0.09773464684714506im -0.4011085909012142 + 0.0im -0.18691687736619322 + 0.36489872080865104im 0.4011085909012142 + 0.0im 0.0 + 0.0im; 0.0 + 0.0im 0.0 + 0.0im 0.0 + 0.0im 0.0 + 0.0im 0.0 + 0.0im 0.0 + 0.0im 0.0 + 0.0im 0.0 + 0.0im 0.0 + 0.0im]"
     ]
    }
   ],
   "source": [
    "print(rh)"
   ]
  },
  {
   "cell_type": "code",
   "execution_count": 84,
   "metadata": {},
   "outputs": [
    {
     "name": "stdout",
     "output_type": "stream",
     "text": [
      "ComplexF64[0.0 + 0.0im 0.0 + 0.0im 0.0 + 0.0im 0.0 + 0.0im 0.0 + 0.0im 0.0 + 0.0im 0.0 + 0.0im 0.0 + 0.0im 0.0 + 0.0im; 0.0 + 0.0im -0.1843003682801232 + 0.0im 0.03009774994789305 - 1.2621121358872887im 0.1843003682801232 + 0.0im -0.40858044473669597 + 0.9148120365983794im -0.4103841666107012 - 0.32744632068191437im 0.7870631395254989 - 0.5675119373094701im 0.4103841666107012 + 0.32744632068191437im 0.0 + 0.0im; 0.0 + 0.0im 0.03009774994789305 + 1.2621121358872887im -1.1799421489083886 + 0.0im -0.03009774994789305 - 1.2621121358872887im 0.6598017545545928 + 0.389999548416467im -0.4373438978697294 - 0.16942942711436093im -0.139661360200797 - 0.779999096832934im 0.4373438978697294 + 0.16942942711436093im 0.0 + 0.0im; 0.0 + 0.0im 0.1843003682801232 + 0.0im -0.03009774994789305 + 1.2621121358872887im -0.1843003682801232 + 0.0im 0.40858044473669597 - 0.9148120365983794im 0.4103841666107012 + 0.32744632068191437im -0.7870631395254989 + 0.5675119373094701im -0.4103841666107012 - 0.32744632068191437im 0.0 + 0.0im; 0.0 + 0.0im -0.40858044473669597 - 0.9148120365983794im 0.6598017545545928 - 0.389999548416467im 0.40858044473669597 + 0.9148120365983794im -0.30813121334206084 + 0.0im 0.12521351025176808 - 0.09773464684714506im -0.0435393278704711 + 0.389999548416467im -0.12521351025176808 + 0.09773464684714506im 0.0 + 0.0im; 0.0 + 0.0im -0.4103841666107012 + 0.32744632068191437im -0.4373438978697294 + 0.16942942711436093im 0.4103841666107012 - 0.32744632068191437im 0.12521351025176808 + 0.09773464684714506im 0.4011085909012142 + 0.0im 0.18691687736619322 - 0.36489872080865104im -0.4011085909012142 + 0.0im 0.0 + 0.0im; 0.0 + 0.0im 0.7870631395254989 + 0.5675119373094701im -0.139661360200797 + 0.779999096832934im -0.7870631395254989 - 0.5675119373094701im -0.0435393278704711 - 0.389999548416467im 0.18691687736619322 + 0.36489872080865104im 0.2267400159417392 + 0.0im -0.18691687736619322 - 0.36489872080865104im 0.0 + 0.0im; 0.0 + 0.0im 0.4103841666107012 - 0.32744632068191437im 0.4373438978697294 - 0.16942942711436093im -0.4103841666107012 + 0.32744632068191437im -0.12521351025176808 - 0.09773464684714506im -0.4011085909012142 + 0.0im -0.18691687736619322 + 0.36489872080865104im 0.4011085909012142 + 0.0im 0.0 + 0.0im; 0.0 + 0.0im 0.0 + 0.0im 0.0 + 0.0im 0.0 + 0.0im 0.0 + 0.0im 0.0 + 0.0im 0.0 + 0.0im 0.0 + 0.0im 0.0 + 0.0im]"
     ]
    }
   ],
   "source": [
    "print(rh)"
   ]
  },
  {
   "cell_type": "code",
   "execution_count": null,
   "metadata": {},
   "outputs": [],
   "source": []
  }
 ],
 "metadata": {
  "kernelspec": {
   "display_name": "Julia 1.9.0",
   "language": "julia",
   "name": "julia-1.9"
  },
  "language_info": {
   "file_extension": ".jl",
   "mimetype": "application/julia",
   "name": "julia",
   "version": "1.9.0"
  },
  "orig_nbformat": 4
 },
 "nbformat": 4,
 "nbformat_minor": 2
}
