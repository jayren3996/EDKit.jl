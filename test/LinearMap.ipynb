{
 "cells": [
  {
   "attachments": {},
   "cell_type": "markdown",
   "metadata": {},
   "source": [
    "# Double Basis\n",
    "Mainly for debuging & testing"
   ]
  },
  {
   "cell_type": "code",
   "execution_count": 1,
   "metadata": {},
   "outputs": [],
   "source": [
    "# Import package\n",
    "using LinearAlgebra, Plots, Test\n",
    "DEV = true\n",
    "if DEV    # use local package\n",
    "    include(\"../src/EDKit.jl\")\n",
    "    using .EDKit\n",
    "else      # use EDKit in the Pkg system\n",
    "    using EDKit\n",
    "end"
   ]
  },
  {
   "attachments": {},
   "cell_type": "markdown",
   "metadata": {},
   "source": [
    "## Transformation\n",
    "Map the vector in `TranslationalBasis` to `TensorBasis`, and check entanglement entropy."
   ]
  },
  {
   "cell_type": "code",
   "execution_count": 2,
   "metadata": {},
   "outputs": [
    {
     "name": "stdout",
     "output_type": "stream",
     "text": [
      "\u001b[0m\u001b[1mTest Summary: | \u001b[22m\u001b[32m\u001b[1mPass  \u001b[22m\u001b[39m\u001b[36m\u001b[1mTotal  \u001b[22m\u001b[39m\u001b[0m\u001b[1mTime\u001b[22m\n",
      "random        | \u001b[32m1460  \u001b[39m\u001b[36m 1460  \u001b[39m\u001b[0m5.2s\n"
     ]
    },
    {
     "data": {
      "text/plain": [
       "Test.DefaultTestSet(\"random\", Any[], 1460, false, false, true, 1.686030836771116e9, 1.686030841957087e9, false)"
      ]
     },
     "metadata": {},
     "output_type": "display_data"
    }
   ],
   "source": [
    "@testset \"random\" begin\n",
    "    L = 6\n",
    "    rm = randn(ComplexF64, 9, 9) |> Hermitian |> Array\n",
    "    B0 = TensorBasis(L=L, base=3)\n",
    "    H0 = trans_inv_operator(rm, 2, B0)\n",
    "    E, V = Array(H0) |> Hermitian |> eigen\n",
    "    S = [ent_S(V[:, i], 1:L÷2, B0) for i in axes(V, 2)]\n",
    "\n",
    "    E2 = Float64[]\n",
    "    V2 = Vector{ComplexF64}[]\n",
    "    S2 = Float64[]\n",
    "    B2 = Any[]\n",
    "    for i = 0:L-1\n",
    "        B = TranslationalBasis(k=i, L=L, base=3)\n",
    "        H = trans_inv_operator(rm, 2, B)\n",
    "        e, v = Array(H) |> Hermitian |> eigen\n",
    "        append!(E2, e)\n",
    "        for j in axes(v, 2)\n",
    "            push!(V2, v[:, j])\n",
    "            push!(S2, ent_S(v[:, j], 1:L÷2, B))\n",
    "            push!(B2, B)\n",
    "        end\n",
    "    end\n",
    "    perm = sortperm(E2)\n",
    "    B2 = B2[perm]\n",
    "    E2 = E2[perm]\n",
    "    V2 = V2[perm]\n",
    "    S2 = S2[perm]\n",
    "    @test E ≈ E2\n",
    "    @test S ≈ S2\n",
    "    \n",
    "    for i in eachindex(E)\n",
    "        v0 = DoubleBasis(B0, B2[i])(V2[i])\n",
    "        @test norm(v0) ≈ 1.0\n",
    "        @test abs(dot(v0, V[:, i])) ≈ 1.0\n",
    "    end\n",
    "end"
   ]
  },
  {
   "attachments": {},
   "cell_type": "markdown",
   "metadata": {},
   "source": [
    "## Projector\n",
    "Consider a spin-1/2 translational invariant random Hamiltonian \n",
    "$$\n",
    "H = \\sum_i h_{i,i+1}\n",
    "$$\n",
    "The Hamiltonian is irreducible in the $k=0$ sector.\n",
    "\n",
    "If we devided the Hilbert space further to $k=0, N=0,\\dots,L$, the Hamiltonian will have off diagonal blocks $H_{mn}$. "
   ]
  },
  {
   "cell_type": "code",
   "execution_count": 3,
   "metadata": {},
   "outputs": [],
   "source": [
    "L = 10\n",
    "h0 = rand(ComplexF64, 4, 4) |> Hermitian\n",
    "bases = [ProjectedBasis(L=L, N=i) for i in 0:L]\n",
    "blocks = Matrix{Any}(undef, L+1, L+1)\n",
    "for m in 1:L+1, n in 1:L+1 \n",
    "    basis = DoubleBasis(bases[m], bases[n])\n",
    "    blocks[m,n] = trans_inv_operator(h0, 2, basis)\n",
    "end"
   ]
  },
  {
   "attachments": {},
   "cell_type": "markdown",
   "metadata": {},
   "source": [
    "In above, each `block[m,n]` is the $H_{mn}$. We can glue the blocks together to check its correctness by examine the eigenvalues:"
   ]
  },
  {
   "cell_type": "code",
   "execution_count": 4,
   "metadata": {},
   "outputs": [
    {
     "data": {
      "text/plain": [
       "8.708950177984901e-13"
      ]
     },
     "metadata": {},
     "output_type": "display_data"
    }
   ],
   "source": [
    "dims = [size(b, 1) for b in bases]\n",
    "mat = zeros(ComplexF64, 2^L, 2^L)\n",
    "n=0\n",
    "for i = 1:L+1 \n",
    "    m = 0\n",
    "    for j = 1:L+1\n",
    "        EDKit.addto!(view(mat, n+1:n+dims[i], m+1:m+dims[j]), blocks[i,j])\n",
    "        m += dims[j]\n",
    "    end\n",
    "    n += dims[i]\n",
    "end\n",
    "\n",
    "# original matrix\n",
    "mat0 = trans_inv_operator(h0, 2, L)\n",
    "\n",
    "# Eigen values\n",
    "vals0 = eigvals(Hermitian(mat0))\n",
    "vals = eigvals(Hermitian(mat))\n",
    "vals - vals0 |> norm"
   ]
  },
  {
   "attachments": {},
   "cell_type": "markdown",
   "metadata": {},
   "source": [
    "## Transformation\n",
    "Consider mapping a state in ($N,k$) sector to tensor-product basis, and then the reverse map from tensor basis back to translational basis."
   ]
  },
  {
   "cell_type": "code",
   "execution_count": 5,
   "metadata": {},
   "outputs": [
    {
     "name": "stdout",
     "output_type": "stream",
     "text": [
      "Dimension = 3\n",
      "--------------------------------------------------\n",
      "Ψ1 = |000111⟩; \n",
      "Basis: |000111⟩; |001110⟩; |011100⟩; |100011⟩; |110001⟩; |111000⟩; \n",
      "Angle: θ₀ * "
     ]
    },
    {
     "name": "stdout",
     "output_type": "stream",
     "text": [
      "[0, 1, 2, -1, -2, 3]\n",
      "Norm: 1.0\n",
      "V1 = "
     ]
    },
    {
     "name": "stdout",
     "output_type": "stream",
     "text": [
      "1.0 - 2.4492935982947064e-16im * |000111⟩; \n",
      "--------------------------------------------------\n",
      "Ψ2 = |001011⟩; \n",
      "Basis: |001011⟩; |010110⟩; |011001⟩; |100101⟩; |101100⟩; |110010⟩; \n",
      "Angle: θ₀ * [0, 1, 3, -1, 2, -2]\n",
      "Norm: 1.0\n",
      "V1 = -0.4999999999999991 + 0.866025403784439im * |001011⟩; \n",
      "--------------------------------------------------\n",
      "Ψ3 = |001101⟩; \n",
      "Basis: |001101⟩; |010011⟩; |011010⟩; |100110⟩; |101001⟩; |110100⟩; \n",
      "Angle: θ₀ * [0, -2, 1, -1, 3, 2]\n",
      "Norm: 1.0\n",
      "V1 = -0.5000000000000003 - 0.8660254037844385im * |001101⟩; \n"
     ]
    }
   ],
   "source": [
    "printdgt!(B, i) = (change!(B, i); print(\"|\"); print.(B.dgt); print(\"⟩; \"))\n",
    "function showinfo(;L, k, N=nothing, p=nothing)\n",
    "    B0 = TensorBasis(L=L)\n",
    "    B1 = if isnothing(N) \n",
    "        isnothing(p) ? TranslationalBasis(L=L, k=k) : TranslationParityBasis(L=L, k=k, p=p)\n",
    "    else\n",
    "        isnothing(p) ? TranslationalBasis(L=L, N=N, k=k) : TranslationParityBasis(L=L, N=N, k=k, p=p)\n",
    "    end\n",
    "    dim = size(B1, 1); println(\"Dimension = $dim\")\n",
    "    for x in 1:dim  # check all basis states in `B1`\n",
    "        println(\"--------------------------------------------------\")\n",
    "        v = zeros(dim); v[x] = 1; print(\"Ψ$x = \"); printdgt!(B1, x); print(\"\\n\")\n",
    "        v0 = DoubleBasis(B0, B1)(v)  # Map to tensor basis\n",
    "\n",
    "        print(\"Basis: \")  # Print the results\n",
    "        angles = Int64[]\n",
    "        for i in eachindex(v0) \n",
    "            iszero(v0[i]) && continue\n",
    "            printdgt!(B0, i)\n",
    "            push!(angles, round(Int, angle(v0[i])*L/2/π))\n",
    "        end\n",
    "        print(\"\\nAngle: θ₀ * \", angles, \"\\n\")\n",
    "        println(\"Norm: $(norm(v0))\")\n",
    "    \n",
    "        v1 = DoubleBasis(B1, B0)(v0)  # Map to translational basis \n",
    "        print(\"V1 = \")\n",
    "        for i in eachindex(v1) \n",
    "            iszero(v1[i]) ? continue : print(\"$(v1[i]) * \")\n",
    "            printdgt!(B1, i)\n",
    "        end\n",
    "        print(\"\\n\")\n",
    "    end\n",
    "end\n",
    "showinfo(L=6, N=3, k=1)"
   ]
  },
  {
   "cell_type": "code",
   "execution_count": 6,
   "metadata": {},
   "outputs": [
    {
     "data": {
      "text/plain": [
       "TranslationalBasis{Int64, ComplexF64}([0, 0, 0, 0], [2], [2.0], ComplexF64[1.0 - 0.0im, 6.123233995736766e-17 - 1.0im, -1.0 - 1.2246467991473532e-16im, -1.8369701987210297e-16 + 1.0im], 1, 2)"
      ]
     },
     "metadata": {},
     "output_type": "display_data"
    }
   ],
   "source": [
    "B1 = TranslationalBasis(L=4, N=1, k=1)"
   ]
  },
  {
   "cell_type": "code",
   "execution_count": 10,
   "metadata": {},
   "outputs": [
    {
     "data": {
      "text/plain": [
       "16"
      ]
     },
     "metadata": {},
     "output_type": "display_data"
    }
   ],
   "source": [
    "Threads.nthreads()"
   ]
  },
  {
   "cell_type": "code",
   "execution_count": null,
   "metadata": {},
   "outputs": [],
   "source": [
    "#-------------------------------------------------------------------------------------------------------------------------\n",
    "# Test Translational PXP\n",
    "#-------------------------------------------------------------------------------------------------------------------------\n",
    "@testset \"Multi-threads Translational PXP\" begin\n",
    "    L, k, p = 28, 0, 1\n",
    "    mat = begin\n",
    "        P = Diagonal([1, 1, 1, 0, 1, 1, 0, 0])\n",
    "        X = [0 1; 1 0]\n",
    "        P * kron(I(2), X, I(2)) * P\n",
    "    end\n",
    "    pxpf(v::Vector{<:Integer}) = all(v[i]==0 || v[mod(i, length(v))+1]==0 for i=1:length(v))\n",
    "    println(\"--------------------------------------\")\n",
    "    print(\"Single-threads:\")\n",
    "    @time bs = TranslationalBasis(f=pxpf, k=k, L=L, threaded=false)\n",
    "    print(\"Multi-threads :\")\n",
    "    @time bm = TranslationalBasis(f=pxpf, k=k, L=L, threaded=true)\n",
    "    @test bs.I == bm.I\n",
    "    @test norm(bs.R-bm.R) ≈ 0.0\n",
    "end\n",
    "\n",
    "#-------------------------------------------------------------------------------------------------------------------------\n",
    "# Test Translational Parity PXP\n",
    "#-------------------------------------------------------------------------------------------------------------------------\n",
    "@testset \"Multi-threads Translational Parity PXP\" begin\n",
    "    L, k, p = 28, 0, 1\n",
    "    mat = begin\n",
    "        P = Diagonal([1, 1, 1, 0, 1, 1, 0, 0])\n",
    "        X = [0 1; 1 0]\n",
    "        P * kron(I(2), X, I(2)) * P\n",
    "    end\n",
    "    pxpf(v::Vector{<:Integer}) = all(v[i]==0 || v[mod(i, length(v))+1]==0 for i=1:length(v))\n",
    "    println(\"--------------------------------------\")\n",
    "    print(\"Single-threads:\")\n",
    "    @time bs = TranslationParityBasis(f=pxpf, k=k, p=p, L=L, threaded=false)\n",
    "    print(\"Multi-threads :\")\n",
    "    @time bm = TranslationParityBasis(f=pxpf, k=k, p=p, L=L, threaded=true)\n",
    "    @test bs.I == bm.I\n",
    "    @test norm(bs.R-bm.R) ≈ 0.0\n",
    "end\n"
   ]
  },
  {
   "cell_type": "code",
   "execution_count": 11,
   "metadata": {},
   "outputs": [
    {
     "data": {
      "text/plain": [
       "pxpf (generic function with 1 method)"
      ]
     },
     "metadata": {},
     "output_type": "display_data"
    }
   ],
   "source": [
    "L, k, p = 28, 0, 1\n",
    "mat = begin\n",
    "    P = Diagonal([1, 1, 1, 0, 1, 1, 0, 0])\n",
    "    X = [0 1; 1 0]\n",
    "    P * kron(I(2), X, I(2)) * P\n",
    "end\n",
    "pxpf(v::Vector{<:Integer}) = all(v[i]==0 || v[mod(i, length(v))+1]==0 for i=1:length(v))"
   ]
  },
  {
   "cell_type": "code",
   "execution_count": 12,
   "metadata": {},
   "outputs": [
    {
     "data": {
      "text/plain": [
       "TranslationalBasis{Int64, Float64}([0, 0, 0, 0, 0, 0, 0, 0, 0, 0  …  0, 0, 0, 0, 0, 0, 0, 0, 0, 0], [1, 2, 6, 10, 18, 22, 34, 38, 42, 66  …  43330198, 43338326, 43338390, 43341142, 44386966, 44389718, 44651862, 44717398, 44733782, 89478486], [28.0, 5.2915026221291805, 5.2915026221291805, 5.2915026221291805, 5.2915026221291805, 5.2915026221291805, 5.2915026221291805, 5.2915026221291805, 5.2915026221291805, 5.2915026221291805  …  5.2915026221291805, 7.483314773547883, 5.2915026221291805, 5.2915026221291805, 10.583005244258361, 5.2915026221291805, 5.2915026221291805, 5.2915026221291805, 5.2915026221291805, 19.79898987322333], [1.0, 1.0, 1.0, 1.0, 1.0, 1.0, 1.0, 1.0, 1.0, 1.0  …  1.0, 1.0, 1.0, 1.0, 1.0, 1.0, 1.0, 1.0, 1.0, 1.0], 1, 2)"
      ]
     },
     "metadata": {},
     "output_type": "display_data"
    }
   ],
   "source": [
    "bs = TranslationalBasis(f=pxpf, k=k, L=L, threaded=false)"
   ]
  },
  {
   "cell_type": "code",
   "execution_count": 13,
   "metadata": {},
   "outputs": [
    {
     "data": {
      "text/plain": [
       "TranslationalBasis{Int64, Float64}([0, 0, 0, 0, 0, 0, 0, 0, 0, 0  …  0, 0, 0, 0, 0, 0, 0, 0, 0, 0], [1, 2, 6, 10, 18, 22, 34, 38, 42, 66  …  43330198, 43338326, 43338390, 43341142, 44386966, 44389718, 44651862, 44717398, 44733782, 89478486], [28.0, 5.2915026221291805, 5.2915026221291805, 5.2915026221291805, 5.2915026221291805, 5.2915026221291805, 5.2915026221291805, 5.2915026221291805, 5.2915026221291805, 5.2915026221291805  …  5.2915026221291805, 7.483314773547883, 5.2915026221291805, 5.2915026221291805, 10.583005244258361, 5.2915026221291805, 5.2915026221291805, 5.2915026221291805, 5.2915026221291805, 19.79898987322333], [1.0, 1.0, 1.0, 1.0, 1.0, 1.0, 1.0, 1.0, 1.0, 1.0  …  1.0, 1.0, 1.0, 1.0, 1.0, 1.0, 1.0, 1.0, 1.0, 1.0], 1, 2)"
      ]
     },
     "metadata": {},
     "output_type": "display_data"
    }
   ],
   "source": [
    "bm = TranslationalBasis(f=pxpf, k=k, L=L, threaded=true)"
   ]
  },
  {
   "cell_type": "code",
   "execution_count": null,
   "metadata": {},
   "outputs": [],
   "source": []
  }
 ],
 "metadata": {
  "kernelspec": {
   "display_name": "Julia 1.9.0",
   "language": "julia",
   "name": "julia-1.9"
  },
  "language_info": {
   "file_extension": ".jl",
   "mimetype": "application/julia",
   "name": "julia",
   "version": "1.9.0"
  },
  "orig_nbformat": 4
 },
 "nbformat": 4,
 "nbformat_minor": 2
}
