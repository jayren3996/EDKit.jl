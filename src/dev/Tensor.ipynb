{
 "cells": [
  {
   "cell_type": "code",
   "execution_count": 1,
   "metadata": {},
   "outputs": [],
   "source": [
    "include(\"../EDKit.jl\")\n",
    "using Main.EDKit, LinearAlgebra, Test, Profile, ITensors, ITensorMPS"
   ]
  },
  {
   "cell_type": "code",
   "execution_count": 2,
   "metadata": {},
   "outputs": [
    {
     "data": {
      "text/plain": [
       "mps2dmpo (generic function with 1 method)"
      ]
     },
     "metadata": {},
     "output_type": "display_data"
    }
   ],
   "source": [
    "function mps2dmpo(ψ::MPS)\n",
    "    s = siteinds(ψ)\n",
    "    L = length(s)\n",
    "    psi = MPO(L)\n",
    "    \n",
    "    psi[1] = begin\n",
    "        l1 = linkind(ψ, 1)\n",
    "        Cl = combiner(l1, l1', tags=\"Link,l=1\")\n",
    "        ψ[1]' * conj(ψ[1]) * Cl\n",
    "    end\n",
    "    \n",
    "    for i in 2:L-1 \n",
    "        li = linkind(ψ, i)\n",
    "        Cl2 = combiner(li, li', tags=\"Link,l=$i\")\n",
    "        psi[i] = ψ[i]' * conj(ψ[i]) * Cl * Cl2 \n",
    "        Cl = Cl2\n",
    "    end\n",
    "\n",
    "    psi[L] = begin\n",
    "        ψ[L]' * conj(ψ[L])* Cl\n",
    "    end\n",
    "    psi\n",
    "end"
   ]
  },
  {
   "cell_type": "code",
   "execution_count": 3,
   "metadata": {},
   "outputs": [
    {
     "data": {
      "text/plain": [
       "0.2081062977226124 + 8.239936510889834e-18im"
      ]
     },
     "metadata": {},
     "output_type": "display_data"
    }
   ],
   "source": [
    "L = 5\n",
    "s = siteinds(\"S=1/2\", L)\n",
    "ps = siteinds(\"Pauli\", L)\n",
    "vec = rand(ComplexF64, 2^L) |> normalize!\n",
    "ψ = vec2mps(vec, s)\n",
    "ρ = vec * vec'\n",
    "pmps = mps2pmps(ψ, ps)\n",
    "mpo = pmps2mpo(pmps, s)\n",
    "inner(ψ', mpo, ψ)"
   ]
  },
  {
   "cell_type": "code",
   "execution_count": 146,
   "metadata": {},
   "outputs": [
    {
     "data": {
      "text/plain": [
       "Dim 1: 16\n",
       "NDTensors.Dense{ComplexF64, SubArray{ComplexF64, 1, Vector{ComplexF64}, Tuple{Base.Slice{Base.OneTo{Int64}}}, true}}\n",
       " 16-element\n",
       "      0.5000000000000002 + 0.0im\n",
       "      0.4751012813103634 + 0.0im\n",
       "     0.15390559907085527 + 0.0im\n",
       "    0.024327742844174327 + 0.0im\n",
       " -1.1775693440128312e-16 + 0.0im\n",
       "      0.1639173177404265 + 5.187702921235698e-18im\n",
       "      -0.419888400903787 + 1.7376904038113167e-17im\n",
       "     -0.5448163394495843 - 1.0558719559927019e-17im\n",
       "      0.4999999999999998 + 0.0im\n",
       "    -0.47510128131036305 + 0.0im\n",
       "    -0.15390559907085505 + 0.0im\n",
       "    -0.02432774284417416 + 0.0im\n",
       "   7.850462293418875e-17 + 0.0im\n",
       "     0.14727069613227958 + 1.0144209318156e-18im\n",
       "     -0.5256613586100304 + 1.2224587518748405e-17im\n",
       "      0.4494346205233535 - 1.7152371496660692e-17im"
      ]
     },
     "metadata": {},
     "output_type": "display_data"
    }
   ],
   "source": [
    "t=ITensor(\n",
    "    [1 0 0 0\n",
    "     0 1/sqrt(2) 0 1im/sqrt(2)\n",
    "     0 1/sqrt(2) 0 -1im/sqrt(2)\n",
    "     0 0 1 0], \n",
    "    l1, Index(4))\n",
    "(pmps[1]*t).tensor[:]"
   ]
  },
  {
   "cell_type": "code",
   "execution_count": 149,
   "metadata": {},
   "outputs": [
    {
     "data": {
      "text/plain": [
       "DoubleBasis{ParityBasis{Int64}, TensorBasis}([0, 0], ParityBasis{Int64}([0, 0], [1, 2, 4], [2.0, 1.4142135623730951, 2.0], 1, 2), TensorBasis([0, 0], 2), 2)"
      ]
     },
     "metadata": {},
     "output_type": "display_data"
    }
   ],
   "source": [
    "B1 = ParityBasis(L=2, p=1, base=2)\n",
    "B2 = ParityBasis(L=2, p=-1, base=2)\n",
    "B0 = TensorBasis(L=2)\n",
    "b=DoubleBasis(B1, B0)"
   ]
  },
  {
   "cell_type": "code",
   "execution_count": 150,
   "metadata": {},
   "outputs": [
    {
     "data": {
      "text/plain": [
       "4×4 Matrix{ComplexF64}:\n",
       " 2.0+0.0im      0.0+0.0im          0.0+0.0im      0.0+0.0im\n",
       " 0.0+0.0im  1.41421+0.0im      1.41421+0.0im      0.0+0.0im\n",
       " 0.0+0.0im      0.0+0.0im          0.0+0.0im      2.0+0.0im\n",
       " 0.0+0.0im      0.0+1.41421im     -0.0-1.41421im  0.0+0.0im"
      ]
     },
     "metadata": {},
     "output_type": "display_data"
    }
   ],
   "source": [
    "b=DoubleBasis(B1, B0)\n",
    "v1 = operator([I(2)], [[1]], b) |> Array\n",
    "b=DoubleBasis(B2, B0)\n",
    "v2 = operator([I(2)], [[1]], b) |> Array\n",
    "vcat(v1, 1im*v2)"
   ]
  },
  {
   "cell_type": "code",
   "execution_count": 3,
   "metadata": {},
   "outputs": [
    {
     "data": {
      "text/plain": [
       "umat (generic function with 1 method)"
      ]
     },
     "metadata": {},
     "output_type": "display_data"
    }
   ],
   "source": [
    "function umat(n)\n",
    "    B1 = ParityBasis(L=2, p=1, base=n)\n",
    "    B2 = ParityBasis(L=2, p=-1, base=n)\n",
    "    B0 = TensorBasis(L=2, base=n)\n",
    "    b=DoubleBasis(B1, B0)\n",
    "    v1 = operator([I(n)], [[1]], b) |> Array\n",
    "    b=DoubleBasis(B2, B0)\n",
    "    v2 = operator([I(n)], [[1]], b) |> Array\n",
    "    out = Matrix{ComplexF64}(undef, n^2, n^2)\n",
    "    out[:, 1:size(v1, 1)] = transpose(v1)\n",
    "    out[:, end-size(v2, 1)+1:end] = 1im*transpose(v2)\n",
    "    out / 2\n",
    "end"
   ]
  },
  {
   "cell_type": "code",
   "execution_count": 164,
   "metadata": {},
   "outputs": [
    {
     "data": {
      "text/plain": [
       "3×9 Matrix{ComplexF64}:\n",
       " 0.0+0.0im  1.41421+0.0im      0.0+0.0im  …       0.0+0.0im  0.0+0.0im\n",
       " 0.0+0.0im      0.0+0.0im  1.41421+0.0im          0.0+0.0im  0.0+0.0im\n",
       " 0.0+0.0im      0.0+0.0im      0.0+0.0im     -1.41421+0.0im  0.0+0.0im"
      ]
     },
     "metadata": {},
     "output_type": "display_data"
    }
   ],
   "source": [
    "n=3\n",
    "B1 = ParityBasis(L=2, p=1, base=n)\n",
    "B2 = ParityBasis(L=2, p=-1, base=n)\n",
    "B0 = TensorBasis(L=2, base=n)\n",
    "b=DoubleBasis(B1, B0)\n",
    "v1 = operator([I(n)], [[1]], b) |> Array\n",
    "b=DoubleBasis(B2, B0)\n",
    "v2 = operator([I(n)], [[1]], b) |> Array"
   ]
  },
  {
   "cell_type": "code",
   "execution_count": 182,
   "metadata": {},
   "outputs": [
    {
     "data": {
      "text/plain": [
       "mps2pmps2 (generic function with 1 method)"
      ]
     },
     "metadata": {},
     "output_type": "display_data"
    }
   ],
   "source": [
    "function mps2pmps2(ψ::MPS, S::AbstractVector)\n",
    "    s = siteinds(ψ)\n",
    "    L = length(s)\n",
    "    psi = MPS(L)\n",
    "    \n",
    "    psi[1] = begin\n",
    "        l1 = linkind(ψ, 1)\n",
    "        Cl = combiner(l1, l1', tags=\"Link,l=1\")\n",
    "        C = ITensor(EDKit.PAULI_CONVERSION, S[1], s[1]', s[1])\n",
    "        ψ[1]' * conj(ψ[1]) * C * Cl\n",
    "    end\n",
    "    \n",
    "    for i in 2:L-1 \n",
    "        li = linkind(ψ, i)\n",
    "        Cl2 = combiner(li, li', tags=\"Link,l=$i\")\n",
    "        C = ITensor(EDKit.PAULI_CONVERSION, S[i], s[i]', s[i])\n",
    "        psi[i] = ψ[i]' * conj(ψ[i]) * C * Cl * Cl2\n",
    "        Cl = Cl2\n",
    "    end\n",
    "\n",
    "    psi[L] = begin\n",
    "        C = ITensor(EDKit.PAULI_CONVERSION, S[L], s[L]', s[L])\n",
    "        ψ[L]' * conj(ψ[L]) * C * Cl\n",
    "    end\n",
    "    for i in 1:L-1\n",
    "        n = linkdim(ψ, i)\n",
    "        u = umat(n)\n",
    "        l0 = commonind(psi[i], psi[i+1])\n",
    "        l = Index(n^2, tags=\"Link,l=$i\")\n",
    "        U = ITensor(u, l0, l)\n",
    "        Ud = ITensor(u', l, l0)\n",
    "        psi[i] = psi[i] * U\n",
    "        psi[i+1] = Ud * psi[i+1]\n",
    "    end\n",
    "    psi\n",
    "end"
   ]
  },
  {
   "cell_type": "code",
   "execution_count": 196,
   "metadata": {},
   "outputs": [
    {
     "data": {
      "text/plain": [
       "MPS\n",
       "[1] ((dim=4|id=563|\"Pauli,Site,n=1\"), (dim=4|id=112|\"Link,l=1\"))\n",
       "[2] ((dim=4|id=112|\"Link,l=1\"), (dim=4|id=939|\"Pauli,Site,n=2\"), (dim=16|id=1|\"Link,l=2\"))\n",
       "[3] ((dim=16|id=1|\"Link,l=2\"), (dim=4|id=594|\"Pauli,Site,n=3\"), (dim=16|id=348|\"Link,l=3\"))\n",
       "[4] ((dim=16|id=348|\"Link,l=3\"), (dim=4|id=608|\"Pauli,Site,n=4\"), (dim=4|id=930|\"Link,l=4\"))\n",
       "[5] ((dim=4|id=930|\"Link,l=4\"), (dim=4|id=618|\"Pauli,Site,n=5\"))\n"
      ]
     },
     "metadata": {},
     "output_type": "display_data"
    }
   ],
   "source": [
    "res=mps2pmps2(ψ, ps)"
   ]
  },
  {
   "cell_type": "code",
   "execution_count": 201,
   "metadata": {},
   "outputs": [
    {
     "data": {
      "text/plain": [
       "3.458818605073972e-18"
      ]
     },
     "metadata": {},
     "output_type": "display_data"
    }
   ],
   "source": [
    "imag(res[5].tensor[:]) |> norm"
   ]
  },
  {
   "cell_type": "code",
   "execution_count": 181,
   "metadata": {},
   "outputs": [
    {
     "data": {
      "text/plain": [
       "4×4 adjoint(::Matrix{ComplexF64}) with eltype ComplexF64:\n",
       " 1.0-0.0im       0.0-0.0im        0.0-0.0im  0.0-0.0im\n",
       " 0.0-0.0im  0.707107-0.0im   0.707107-0.0im  0.0-0.0im\n",
       " 0.0-0.0im       0.0-0.0im        0.0-0.0im  1.0-0.0im\n",
       " 0.0-0.0im  0.707107-0.0im  -0.707107-0.0im  0.0-0.0im"
      ]
     },
     "metadata": {},
     "output_type": "display_data"
    }
   ],
   "source": [
    "umat(2)'"
   ]
  },
  {
   "cell_type": "code",
   "execution_count": 202,
   "metadata": {},
   "outputs": [
    {
     "name": "stdout",
     "output_type": "stream",
     "text": [
      "  0.314681 seconds (494.27 k allocations: 559.321 MiB, 11.53% gc time, 9.73% compilation time)\n"
     ]
    }
   ],
   "source": [
    "@time [umat(5) for i in 1:1000];"
   ]
  },
  {
   "cell_type": "code",
   "execution_count": 4,
   "metadata": {},
   "outputs": [
    {
     "data": {
      "text/plain": [
       "9×9 Matrix{ComplexF64}:\n",
       " 1.0+0.0im       0.0+0.0im  …   0.0+0.0im        0.0+0.0im\n",
       " 0.0+0.0im  0.707107+0.0im      0.0+0.0im        0.0+0.0im\n",
       " 0.0+0.0im       0.0+0.0im      0.0+0.707107im   0.0+0.0im\n",
       " 0.0+0.0im  0.707107+0.0im      0.0+0.0im        0.0+0.0im\n",
       " 0.0+0.0im       0.0+0.0im      0.0+0.0im        0.0+0.0im\n",
       " 0.0+0.0im       0.0+0.0im  …   0.0+0.0im        0.0+0.707107im\n",
       " 0.0+0.0im       0.0+0.0im     -0.0-0.707107im   0.0+0.0im\n",
       " 0.0+0.0im       0.0+0.0im      0.0+0.0im       -0.0-0.707107im\n",
       " 0.0+0.0im       0.0+0.0im      0.0+0.0im        0.0+0.0im"
      ]
     },
     "metadata": {},
     "output_type": "display_data"
    }
   ],
   "source": [
    "mat1 = umat(3)"
   ]
  },
  {
   "cell_type": "code",
   "execution_count": 5,
   "metadata": {},
   "outputs": [
    {
     "data": {
      "text/plain": [
       "9×9 Matrix{ComplexF64}:\n",
       " 1.0+0.0im       0.0+0.0im       0.0+0.0im  …  0.0+0.0im       0.0+0.0im\n",
       " 0.0+0.0im  0.707107+0.0im       0.0+0.0im     0.0+0.0im       0.0+0.0im\n",
       " 0.0+0.0im       0.0+0.0im  0.707107+0.0im     0.0+0.707107im  0.0+0.0im\n",
       " 0.0+0.0im  0.707107+0.0im       0.0+0.0im     0.0+0.0im       0.0+0.0im\n",
       " 0.0+0.0im       0.0+0.0im       0.0+0.0im     0.0+0.0im       0.0+0.0im\n",
       " 0.0+0.0im       0.0+0.0im       0.0+0.0im  …  0.0+0.0im       0.0+0.707107im\n",
       " 0.0+0.0im       0.0+0.0im  0.707107+0.0im     0.0-0.707107im  0.0+0.0im\n",
       " 0.0+0.0im       0.0+0.0im       0.0+0.0im     0.0+0.0im       0.0-0.707107im\n",
       " 0.0+0.0im       0.0+0.0im       0.0+0.0im     0.0+0.0im       0.0+0.0im"
      ]
     },
     "metadata": {},
     "output_type": "display_data"
    }
   ],
   "source": [
    "mat2 = EDKit._umat(3)"
   ]
  },
  {
   "cell_type": "code",
   "execution_count": 8,
   "metadata": {},
   "outputs": [
    {
     "data": {
      "text/plain": [
       "_umat (generic function with 1 method)"
      ]
     },
     "metadata": {},
     "output_type": "display_data"
    }
   ],
   "source": [
    "function _umat(n::Int64)\n",
    "    B1 = ParityBasis(L=2, p=1, base=n)\n",
    "    B2 = ParityBasis(L=2, p=-1, base=n)\n",
    "    n1, n2 = size(B1, 1), size(B2, 1)\n",
    "    out = zeros(ComplexF64, n^2, n^2)\n",
    "    for i in 1:n1\n",
    "        a = 1 / change!(B1, i)\n",
    "        out[index(B1.dgt; base=n), i] += a \n",
    "        reverse!(B1.dgt)\n",
    "        out[index(B1.dgt; base=n), i] += a \n",
    "    end\n",
    "    for i in 1:n2\n",
    "        j = n1 + i \n",
    "        b = 1im / change!(B2, i) \n",
    "        out[index(B2.dgt; base=n), j] += b\n",
    "        reverse!(B2.dgt)\n",
    "        out[index(B2.dgt; base=n), j] -= b\n",
    "    end\n",
    "    out\n",
    "end"
   ]
  },
  {
   "cell_type": "code",
   "execution_count": 7,
   "metadata": {},
   "outputs": [
    {
     "data": {
      "text/plain": [
       "ParityBasis{Int64}([0, 0], [1, 2, 3, 5, 6, 9], [2.0, 1.4142135623730951, 1.4142135623730951, 2.0, 1.4142135623730951, 2.0], 1, 3)"
      ]
     },
     "metadata": {},
     "output_type": "display_data"
    }
   ],
   "source": [
    "B1 = ParityBasis(L=2, p=1, base=3)\n",
    "i = 1\n"
   ]
  },
  {
   "cell_type": "code",
   "execution_count": 9,
   "metadata": {},
   "outputs": [
    {
     "data": {
      "text/plain": [
       "9×9 Matrix{ComplexF64}:\n",
       " 1.0+0.0im       0.0+0.0im       0.0+0.0im  …  0.0+0.0im       0.0+0.0im\n",
       " 0.0+0.0im  0.707107+0.0im       0.0+0.0im     0.0+0.0im       0.0+0.0im\n",
       " 0.0+0.0im       0.0+0.0im  0.707107+0.0im     0.0+0.707107im  0.0+0.0im\n",
       " 0.0+0.0im  0.707107+0.0im       0.0+0.0im     0.0+0.0im       0.0+0.0im\n",
       " 0.0+0.0im       0.0+0.0im       0.0+0.0im     0.0+0.0im       0.0+0.0im\n",
       " 0.0+0.0im       0.0+0.0im       0.0+0.0im  …  0.0+0.0im       0.0+0.707107im\n",
       " 0.0+0.0im       0.0+0.0im  0.707107+0.0im     0.0-0.707107im  0.0+0.0im\n",
       " 0.0+0.0im       0.0+0.0im       0.0+0.0im     0.0+0.0im       0.0-0.707107im\n",
       " 0.0+0.0im       0.0+0.0im       0.0+0.0im     0.0+0.0im       0.0+0.0im"
      ]
     },
     "metadata": {},
     "output_type": "display_data"
    }
   ],
   "source": [
    "_umat(3)"
   ]
  },
  {
   "cell_type": "code",
   "execution_count": 12,
   "metadata": {},
   "outputs": [
    {
     "data": {
      "text/plain": [
       "9×2 Matrix{ComplexF64}:\n",
       " 0.0+0.0im        0.0+0.0im\n",
       " 0.0+0.707107im   0.0+0.707107im\n",
       " 0.0+0.0im        0.0+0.0im\n",
       " 0.0-0.707107im  -0.0-0.707107im\n",
       " 0.0+0.0im        0.0+0.0im\n",
       " 0.0+0.0im        0.0+0.0im\n",
       " 0.0+0.0im        0.0+0.0im\n",
       " 0.0+0.0im        0.0+0.0im\n",
       " 0.0+0.0im        0.0+0.0im"
      ]
     },
     "metadata": {},
     "output_type": "display_data"
    }
   ],
   "source": [
    "i = 7\n",
    "[mat2[:,i] mat1[:, i]]"
   ]
  },
  {
   "cell_type": "code",
   "execution_count": null,
   "metadata": {},
   "outputs": [],
   "source": []
  }
 ],
 "metadata": {
  "kernelspec": {
   "display_name": "Julia 1.10.4",
   "language": "julia",
   "name": "julia-1.10"
  },
  "language_info": {
   "file_extension": ".jl",
   "mimetype": "application/julia",
   "name": "julia",
   "version": "1.10.4"
  },
  "orig_nbformat": 4
 },
 "nbformat": 4,
 "nbformat_minor": 2
}
