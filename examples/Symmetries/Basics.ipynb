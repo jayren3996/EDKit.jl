{
 "cells": [
  {
   "cell_type": "code",
   "execution_count": 1,
   "metadata": {},
   "outputs": [],
   "source": [
    "using LinearAlgebra, Plots\n",
    "DEV = true\n",
    "if DEV    # use local package\n",
    "    include(\"../../src/EDKit.jl\")\n",
    "    using .EDKit\n",
    "else      # use EDKit in the Pkg system\n",
    "    using EDKit\n",
    "end\n",
    "import EDKit:σ"
   ]
  },
  {
   "attachments": {},
   "cell_type": "markdown",
   "metadata": {},
   "source": [
    "## XXZ model\n",
    "We consider the Hamiltonian\n",
    "$$\n",
    "H = \\sum_i \\left[\n",
    "    J(\\sigma_i^x \\sigma_{i+1}^x + \\sigma_i^y \\sigma_{i+1}^y) + \n",
    "    \\Delta \\sigma_i^z \\sigma_{i+1}^z \n",
    "\\right].\n",
    "$$\n",
    "---\n",
    "Check parity symmetry:"
   ]
  },
  {
   "cell_type": "code",
   "execution_count": 42,
   "metadata": {},
   "outputs": [
    {
     "name": "stdout",
     "output_type": "stream",
     "text": [
      "----------------------------------------\n",
      "Spin flip:\n",
      "E error = 6.624190125204214e-14 \n",
      "S error = 1.1511167688078701e-12\n",
      "----------------------------------------\n",
      "Parity:\n",
      "E error = 1.2792024185418167e-13 \n",
      "S error = 5.985644681356852e-13\n",
      "----------------------------------------\n",
      "Spin flip + Parity:\n",
      "E error = 1.5983911384436993e-13 \n",
      "S error = 1.0317365109538752e-12\n"
     ]
    }
   ],
   "source": [
    "L = 10\n",
    "N = 5\n",
    "\n",
    "Js = randn(L-1)\n",
    "Δs = randn(L-1)\n",
    "mats = [Js[i]*(σ(1,1)+σ(2,2)) + Δs[i]*σ(3,3) for i in 1:L-1]\n",
    "inds = [i:i+1 for i in 1:L-1]\n",
    "B = ProjectedBasis(;L, N)\n",
    "H = operator(mats, inds, B)\n",
    "E, V = eigen(Hermitian(H))\n",
    "S = [ent_S(V[:, i], 1:L÷2, B) for i in axes(V, 2)]\n",
    "\n",
    "bp1 = FlipBasis(;L, p=1, N)\n",
    "bp2 = FlipBasis(;L, p=-1, N)\n",
    "E1, V1 = operator(mats, inds, bp1) |> Hermitian |> eigen\n",
    "E2, V2 = operator(mats, inds, bp2) |> Hermitian |> eigen\n",
    "S1 = [ent_S(V1[:, i], 1:L÷2, bp1) for i in axes(V1, 2)]\n",
    "S2 = [ent_S(V2[:, i], 1:L÷2, bp2) for i in axes(V2, 2)]\n",
    "\n",
    "ve = sort([E1; E2]) .- E |> norm \n",
    "vs = sort([S1; S2]) .- sort(S) |> norm \n",
    "println(\"----------------------------------------\n",
    "Spin flip:\\nE error = $ve \\nS error = $vs\")\n",
    "\n",
    "\n",
    "Js = Js + reverse(Js)\n",
    "Δs = Δs + reverse(Δs)\n",
    "mats = [Js[i]*(σ(1,1)+σ(2,2)) + Δs[i]*σ(3,3) for i in 1:L-1]\n",
    "inds = [i:i+1 for i in 1:L-1]\n",
    "B = ProjectedBasis(;L, N)\n",
    "H = operator(mats, inds, B)\n",
    "E, V = eigen(Hermitian(H))\n",
    "S = [ent_S(V[:, i], 1:L÷2, B) for i in axes(V, 2)]\n",
    "\n",
    "bp1 = ParityBasis(;L, p=1, N)\n",
    "bp2 = ParityBasis(;L, p=-1, N)\n",
    "E1, V1 = operator(mats, inds, bp1) |> Hermitian |> eigen\n",
    "E2, V2 = operator(mats, inds, bp2) |> Hermitian |> eigen\n",
    "S1 = [ent_S(V1[:, i], 1:L÷2, bp1) for i in axes(V1, 2)]\n",
    "S2 = [ent_S(V2[:, i], 1:L÷2, bp2) for i in axes(V2, 2)]\n",
    "\n",
    "ve = sort([E1; E2]) .- E |> norm\n",
    "vs = sort([S1; S2]) .- sort(S) |> norm\n",
    "\n",
    "println(\"----------------------------------------\n",
    "Parity:\\nE error = $ve \\nS error = $vs\")\n",
    "\n",
    "bp1 = ParityFlipBasis(;L, p=1, z=1, N)\n",
    "bp2 = ParityFlipBasis(;L, p=1, z=-1, N)\n",
    "bp3 = ParityFlipBasis(;L, p=-1, z=1, N)\n",
    "bp4 = ParityFlipBasis(;L, p=-1, z=-1, N)\n",
    "E1, V1 = operator(mats, inds, bp1) |> Hermitian |> eigen\n",
    "E2, V2 = operator(mats, inds, bp2) |> Hermitian |> eigen\n",
    "E3, V3 = operator(mats, inds, bp3) |> Hermitian |> eigen\n",
    "E4, V4 = operator(mats, inds, bp4) |> Hermitian |> eigen\n",
    "S1 = [ent_S(V1[:, i], 1:L÷2, bp1) for i in axes(V1, 2)]\n",
    "S2 = [ent_S(V2[:, i], 1:L÷2, bp2) for i in axes(V2, 2)]\n",
    "S3 = [ent_S(V3[:, i], 1:L÷2, bp3) for i in axes(V3, 2)]\n",
    "S4 = [ent_S(V4[:, i], 1:L÷2, bp4) for i in axes(V4, 2)]\n",
    "\n",
    "ve = sort([E1; E2; E3; E4]) .- E |> norm\n",
    "vs = sort([S1; S2; S3; S4]) .- sort(S) |> norm\n",
    "println(\"----------------------------------------\n",
    "Spin flip + Parity:\\nE error = $ve \\nS error = $vs\")"
   ]
  }
 ],
 "metadata": {
  "kernelspec": {
   "display_name": "Julia 1.10.4",
   "language": "julia",
   "name": "julia-1.10"
  },
  "language_info": {
   "file_extension": ".jl",
   "mimetype": "application/julia",
   "name": "julia",
   "version": "1.10.4"
  },
  "orig_nbformat": 4
 },
 "nbformat": 4,
 "nbformat_minor": 2
}
