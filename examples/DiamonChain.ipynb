{
 "cells": [
  {
   "attachments": {},
   "cell_type": "markdown",
   "id": "dc35b90e",
   "metadata": {},
   "source": [
    "# Diamon Chain\n",
    "\n",
    "Consider the following diamon lattice (spin-1)\n",
    "![](./diamonchain.jpg)\n",
    "The general Hamiltonian is\n",
    "$$\n",
    "\\begin{aligned}\n",
    "H =&\\ \\sum_{j} \\left(\n",
    "    J_1 \\vec S_{j,a} \\cdot \\vec S_{j,b} + \n",
    "    J_2 \\vec S_{j,a} \\cdot \\vec S_{j,c} + \n",
    "    J_3 \\vec S_{j,b} \\cdot \\vec S_{j,c} \\right) \\\\ \n",
    "    &\\ +\\sum_{j} \\left(\n",
    "    J_4 \\vec S_{j,b} \\cdot \\vec S_{j+1,a} +\n",
    "    J_5 \\vec S_{j,c} \\cdot \\vec S_{j+1,a} \\right) \\\\\n",
    "    &\\ +\\sum_{j} \\left(\n",
    "    h_a S_{j,a}^{z} + h_b S_{j,b}^{z} + h_c S_{j,c}^{z}\n",
    "    \\right)\n",
    "\\end{aligned}\n",
    "$$\n",
    "There is a 3-site translational symmetry, and total $S^z$ conservation in this model."
   ]
  },
  {
   "attachments": {},
   "cell_type": "markdown",
   "id": "7c837504",
   "metadata": {},
   "source": [
    "One way to deal with the Hamiltonian is to merge 3 spin in a unit cell into a ($D=3^3=27$) local degree of freedom so that the Hamiltonian has the following simple form:\n",
    "$$\n",
    "H = \\sum_j h^{(1)}_{j}(J_1,J_2,J_3,h_a,h_b,h_c) + \\sum_j h^{(2)}_{j,j+1}(J_4, J_5).\n",
    "$$\n",
    "Here the onsite $h^{(1)}$ is a ($27\\times 27$) matrix, and $h^{(2)}$ is a ($27^2\\times27^2$) matrix."
   ]
  },
  {
   "cell_type": "code",
   "execution_count": 5,
   "id": "fe55feca",
   "metadata": {},
   "outputs": [
    {
     "data": {
      "text/plain": [
       "27×27 SparseArrays.SparseMatrixCSC{Float64, Int64} with 98 stored entries:\n",
       "⎡⢑⢔⠄⠀⢐⠄⠀⠀⠀⠀⠀⠀⠀⠀⎤\n",
       "⎢⠀⠁⢕⢕⠀⠑⢕⢀⠀⠀⠀⠀⠀⠀⎥\n",
       "⎢⠐⠔⢄⠀⠑⢄⢄⠁⠁⢄⠀⠀⠀⠀⎥\n",
       "⎢⠀⠀⠑⢑⠄⠑⢁⢔⠄⠑⢔⠄⠀⠀⎥\n",
       "⎢⠀⠀⠀⠀⠁⢄⢄⠁⠑⢄⢀⠑⠑⠀⎥\n",
       "⎢⠀⠀⠀⠀⠀⠀⠐⠕⢄⠐⠕⢅⢄⠀⎥\n",
       "⎣⠀⠀⠀⠀⠀⠀⠀⠀⠑⠀⠀⠑⠑⠄⎦"
      ]
     },
     "metadata": {},
     "output_type": "display_data"
    }
   ],
   "source": [
    "using EDKit, LinearAlgebra\n",
    "\n",
    "# Hamiltonian parameters:\n",
    "J1 = 1.0\n",
    "J2 = J1\n",
    "J3 = 0.5\n",
    "J4 = J1\n",
    "J5 = J1\n",
    "\n",
    "ha = 0.1\n",
    "hb = ha\n",
    "hc = ha\n",
    "\n",
    "# onsite Hamiltonian matrix\n",
    "O1 = spin((J1, \"xx1\"), (J1, \"yy1\"), (J1, \"zz1\"), D=3)\n",
    "O2 = spin((J2, \"x1x\"), (J2, \"y1y\"), (J2, \"z1z\"), D=3)\n",
    "O3 = spin((J3, \"1xx\"), (J3, \"1yy\"), (J3, \"1zz\"), D=3)\n",
    "\n",
    "hz = spin((ha, \"z11\"), (hb, \"1z1\"), (hc, \"11z\"), D=3)\n",
    "\n",
    "h1 = O1 + O2 + O3 + hz "
   ]
  },
  {
   "cell_type": "markdown",
   "id": "6cf53ca5",
   "metadata": {},
   "source": [
    "The $h^{(2)}$ matrix is"
   ]
  },
  {
   "cell_type": "code",
   "execution_count": 4,
   "id": "064a44e3",
   "metadata": {},
   "outputs": [
    {
     "data": {
      "text/plain": [
       "729×729 SparseArrays.SparseMatrixCSC{Float64, Int64} with 2592 stored entries:\n",
       "⎡⢀⡰⢷⢄⠰⣷⢄⠀⠀⠀⠀⠀⠀⠀⠀⠀⠀⠀⠀⠀⠀⠀⠀⠀⠀⠀⠀⠀⠀⠀⠀⠀⠀⠀⠀⠀⠀⠀⠀⠀⎤\n",
       "⎢⠙⢗⣄⡹⠗⠀⠻⢗⣄⠀⠀⠀⠀⠀⠀⠀⠀⠀⠀⠀⠀⠀⠀⠀⠀⠀⠀⠀⠀⠀⠀⠀⠀⠀⠀⠀⠀⠀⠀⠀⎥\n",
       "⎢⢴⣦⠙⠁⠀⠀⣴⣌⠋⣴⡄⠀⠀⠀⠀⠀⠀⠀⠀⠀⠀⠀⠀⠀⠀⠀⠀⠀⠀⠀⠀⠀⠀⠀⠀⠀⠀⠀⠀⠀⎥\n",
       "⎢⠀⠑⢿⢆⡐⢿⢎⠑⡷⠈⠸⡷⣀⠀⠀⠀⠀⠀⠀⠀⠀⠀⠀⠀⠀⠀⠀⠀⠀⠀⠀⠀⠀⠀⠀⠀⠀⠀⠀⠀⎥\n",
       "⎢⠀⠀⠀⠙⢋⣤⡙⠋⠀⠀⢠⣌⠛⠁⠀⠀⠀⠀⠀⠀⠀⠀⠀⠀⠀⠀⠀⠀⠀⠀⠀⠀⠀⠀⠀⠀⠀⠀⠀⠀⎥\n",
       "⎢⠀⠀⠀⠀⠀⠉⢶⡦⡀⢶⢎⠑⢖⠄⠀⠀⠀⠀⠀⠀⠀⠀⠀⠀⠀⠀⠀⠀⠀⠀⠀⠀⠀⠀⠀⠀⠀⠀⠀⠀⎥\n",
       "⎢⠀⠀⠀⠀⠀⠀⠀⠘⠟⠀⠘⠕⠀⠀⢀⣄⠀⢀⣄⠀⠀⠀⠀⠀⠀⠀⠀⠀⠀⠀⠀⠀⠀⠀⠀⠀⠀⠀⠀⠀⎥\n",
       "⎢⠀⠀⠀⠀⠀⠀⠀⠀⠀⠀⠀⠀⠀⢴⣤⠛⢵⢌⠛⣵⣄⠀⠀⠀⠀⠀⠀⠀⠀⠀⠀⠀⠀⠀⠀⠀⠀⠀⠀⠀⎥\n",
       "⎢⠀⠀⠀⠀⠀⠀⠀⠀⠀⠀⠀⠀⠀⢀⡑⢗⠄⠁⠀⢈⠱⣷⢄⠀⠀⠀⠀⠀⠀⠀⠀⠀⠀⠀⠀⠀⠀⠀⠀⠀⎥\n",
       "⎢⠀⠀⠀⠀⠀⠀⠀⠀⠀⠀⠀⠀⠀⠙⢟⣤⡀⢀⣄⡹⢗⣄⠻⢗⣄⠀⠀⠀⠀⠀⠀⠀⠀⠀⠀⠀⠀⠀⠀⠀⎥\n",
       "⎢⠀⠀⠀⠀⠀⠀⠀⠀⠀⠀⠀⠀⠀⠀⠀⠙⢵⣦⠙⢵⢄⠑⠁⠈⠛⣵⣄⠀⠀⠀⠀⠀⠀⠀⠀⠀⠀⠀⠀⠀⎥\n",
       "⎢⠀⠀⠀⠀⠀⠀⠀⠀⠀⠀⠀⠀⠀⠀⠀⠀⠀⠑⢿⢆⡁⠀⢀⠐⢵⢌⠁⠀⠀⠀⠀⠀⠀⠀⠀⠀⠀⠀⠀⠀⎥\n",
       "⎢⠀⠀⠀⠀⠀⠀⠀⠀⠀⠀⠀⠀⠀⠀⠀⠀⠀⠀⠀⠙⢟⣤⡑⢗⣤⠛⠗⠀⠀⠀⠀⠀⠀⠀⠀⠀⠀⠀⠀⠀⎥\n",
       "⎢⠀⠀⠀⠀⠀⠀⠀⠀⠀⠀⠀⠀⠀⠀⠀⠀⠀⠀⠀⠀⠀⠙⠁⠀⠙⠁⠀⠀⢔⡄⠀⣴⡄⠀⠀⠀⠀⠀⠀⠀⎥\n",
       "⎢⠀⠀⠀⠀⠀⠀⠀⠀⠀⠀⠀⠀⠀⠀⠀⠀⠀⠀⠀⠀⠀⠀⠀⠀⠀⠀⠐⠵⢄⡱⠷⠈⠺⠷⣀⠀⠀⠀⠀⠀⎥\n",
       "⎢⠀⠀⠀⠀⠀⠀⠀⠀⠀⠀⠀⠀⠀⠀⠀⠀⠀⠀⠀⠀⠀⠀⠀⠀⠀⠀⢀⣤⡙⠃⠀⠀⣠⣌⠛⣡⣄⠀⠀⠀⎥\n",
       "⎢⠀⠀⠀⠀⠀⠀⠀⠀⠀⠀⠀⠀⠀⠀⠀⠀⠀⠀⠀⠀⠀⠀⠀⠀⠀⠀⠀⠉⢾⡆⡀⢾⢄⡱⣷⠌⠱⣷⢄⠀⎥\n",
       "⎢⠀⠀⠀⠀⠀⠀⠀⠀⠀⠀⠀⠀⠀⠀⠀⠀⠀⠀⠀⠀⠀⠀⠀⠀⠀⠀⠀⠀⠀⠘⠟⣠⡙⠟⠀⠀⢀⣄⠻⠗⎥\n",
       "⎢⠀⠀⠀⠀⠀⠀⠀⠀⠀⠀⠀⠀⠀⠀⠀⠀⠀⠀⠀⠀⠀⠀⠀⠀⠀⠀⠀⠀⠀⠀⠀⠙⢵⣦⠀⢴⣎⠙⢵⣄⎥\n",
       "⎣⠀⠀⠀⠀⠀⠀⠀⠀⠀⠀⠀⠀⠀⠀⠀⠀⠀⠀⠀⠀⠀⠀⠀⠀⠀⠀⠀⠀⠀⠀⠀⠀⠀⠑⢿⠆⠑⢷⠎⠁⎦"
      ]
     },
     "metadata": {},
     "output_type": "display_data"
    }
   ],
   "source": [
    "C1 = spin((J4, \"1x1x11\"), (J4, \"1y1y11\"), (J4, \"1y1y11\"), D=3)\n",
    "C2 = spin((J5, \"11xx11\"), (J5, \"11yy11\"), (J5, \"11yy11\"), D=3)\n",
    "\n",
    "h2 = C1 + C2"
   ]
  },
  {
   "cell_type": "markdown",
   "id": "ea72e666",
   "metadata": {},
   "source": [
    "Having construct the local terms, the remaining thing is to specify the symmetry we want. For this model, we need some extra step to specify total $S^z$. In our convention, what we specify is the magnon number:\n",
    "$$\n",
    "N = \\sum_j \\left[(S_{j}^{a}+1) + (S_{j}^{b}+1) + (S_{j}^{c}+1)\\right]\n",
    "$$\n",
    "In EDKit, a product state basis state is labelled by a string $|b\\rangle = |b_1,b_2,\\dots,b_L\\rangle$, where $b_j=0,1,\\dots,L$. We can use the following code to count the magnon number:"
   ]
  },
  {
   "cell_type": "code",
   "execution_count": null,
   "id": "06725314",
   "metadata": {},
   "outputs": [],
   "source": [
    "Nj = diag( spin((1,\"z11\"), (1,\"1z1\"), (1,\"11z\"), D=3) + 3*I )\n",
    "\n",
    "# since Julia vector start from 1, hence the `sj+1`\n",
    "total_z(s) = sum(Nj[sj+1] for sj in s)"
   ]
  },
  {
   "cell_type": "markdown",
   "id": "71730599",
   "metadata": {},
   "source": [
    "Now, we specify an $L=4$ system (with $3\\times 4=12$ physical spins), with momentum $k=0$, and with half-filling ($N=3L$):"
   ]
  },
  {
   "cell_type": "code",
   "execution_count": 33,
   "id": "460748d9",
   "metadata": {},
   "outputs": [
    {
     "data": {
      "text/plain": [
       "(18486, 18486)"
      ]
     },
     "metadata": {},
     "output_type": "display_data"
    }
   ],
   "source": [
    "L = 4\n",
    "k = 0\n",
    "N = 3L\n",
    "\n",
    "basis = TranslationalBasis(f = s -> total_z(s) == N, L=L, k=k, base=3^3)\n",
    "size(basis)"
   ]
  },
  {
   "cell_type": "markdown",
   "id": "fd22cb4a",
   "metadata": {},
   "source": [
    "With local matrix and basis specified, we can construct the many-body Hamiltonian using the `trans_inv_operator(mat, inds, basis)` funcction, where the inputs are:\n",
    "- mat: local Hamiltonian matrix\n",
    "- inds: indices of the first operator; for on-site operator, inds=[1], for 2-site operator, inds=[1,2]\n",
    "- basis: the `basis` we have just constructed"
   ]
  },
  {
   "cell_type": "code",
   "execution_count": 34,
   "id": "90dbdf42",
   "metadata": {},
   "outputs": [
    {
     "name": "stdout",
     "output_type": "stream",
     "text": [
      "Operator of size (18486, 18486) with 8 terms.\n"
     ]
    }
   ],
   "source": [
    "H = trans_inv_operator(h1, 1:1, basis) + trans_inv_operator(h2, 1:2, basis) "
   ]
  },
  {
   "cell_type": "markdown",
   "id": "62282837",
   "metadata": {},
   "source": [
    "Finially, diagonalize the Hamiltonian:"
   ]
  },
  {
   "cell_type": "code",
   "execution_count": 35,
   "id": "fb6fc28b",
   "metadata": {},
   "outputs": [
    {
     "data": {
      "text/plain": [
       "18486-element Vector{Float64}:\n",
       " -20.58900244388874\n",
       " -19.028523830992487\n",
       " -17.503273414607932\n",
       " -17.479570343498132\n",
       " -17.421672583644167\n",
       " -17.23443225873303\n",
       " -17.211228737058814\n",
       " -16.98939470173414\n",
       " -16.802464600017334\n",
       " -16.218208218449206\n",
       "   ⋮\n",
       "  18.112162848847827\n",
       "  18.274977204385248\n",
       "  18.335531334607868\n",
       "  18.490582698920687\n",
       "  18.62560001998051\n",
       "  18.89196292260582\n",
       "  19.670816930656517\n",
       "  20.310394555662278\n",
       "  23.214848580878012"
      ]
     },
     "metadata": {},
     "output_type": "display_data"
    }
   ],
   "source": [
    "energy = eigvals(Hermitian(H))"
   ]
  }
 ],
 "metadata": {
  "kernelspec": {
   "display_name": "Julia 1.10.0",
   "language": "julia",
   "name": "julia-1.10"
  },
  "language_info": {
   "file_extension": ".jl",
   "mimetype": "application/julia",
   "name": "julia",
   "version": "1.10.0"
  }
 },
 "nbformat": 4,
 "nbformat_minor": 5
}
