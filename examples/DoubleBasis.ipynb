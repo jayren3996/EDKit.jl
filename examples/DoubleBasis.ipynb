{
 "cells": [
  {
   "attachments": {},
   "cell_type": "markdown",
   "metadata": {},
   "source": [
    "# Double Basis\n",
    "Mainly for debuging & testing"
   ]
  },
  {
   "cell_type": "code",
   "execution_count": 1,
   "metadata": {},
   "outputs": [],
   "source": [
    "# Import package\n",
    "using LinearAlgebra, Plots\n",
    "DEV = true\n",
    "if DEV    # use local package\n",
    "    include(\"../src/EDKit.jl\")\n",
    "    using .EDKit\n",
    "else      # use EDKit in the Pkg system\n",
    "    using EDKit\n",
    "end"
   ]
  },
  {
   "attachments": {},
   "cell_type": "markdown",
   "metadata": {},
   "source": [
    "## Projector\n",
    "Consider a spin-1/2 translational invariant random Hamiltonian \n",
    "$$\n",
    "H = \\sum_i h_{i,i+1}\n",
    "$$\n",
    "The Hamiltonian is irreducible in the $k=0$ sector.\n",
    "\n",
    "If we devided the Hilbert space further to $k=0, N=0,\\dots,L$, the Hamiltonian will have off diagonal blocks $H_{mn}$. "
   ]
  },
  {
   "cell_type": "code",
   "execution_count": 2,
   "metadata": {},
   "outputs": [],
   "source": [
    "L = 10\n",
    "h0 = rand(ComplexF64, 4, 4) |> Hermitian\n",
    "bases = [ProjectedBasis(L=L, N=i) for i in 0:L]\n",
    "blocks = Matrix{Any}(undef, L+1, L+1)\n",
    "for m in 1:L+1, n in 1:L+1 \n",
    "    basis = DoubleBasis(bases[m], bases[n])\n",
    "    blocks[m,n] = trans_inv_operator(h0, 2, basis)\n",
    "end"
   ]
  },
  {
   "attachments": {},
   "cell_type": "markdown",
   "metadata": {},
   "source": [
    "In above, each `block[m,n]` is the $H_{mn}$. We can glue the blocks together to check its correctness by examine the eigenvalues:"
   ]
  },
  {
   "cell_type": "code",
   "execution_count": 3,
   "metadata": {},
   "outputs": [
    {
     "data": {
      "text/plain": [
       "6.162088209991788e-13"
      ]
     },
     "metadata": {},
     "output_type": "display_data"
    }
   ],
   "source": [
    "dims = [size(b, 1) for b in bases]\n",
    "mat = zeros(ComplexF64, 2^L, 2^L)\n",
    "n=0\n",
    "for i = 1:L+1 \n",
    "    m = 0\n",
    "    for j = 1:L+1\n",
    "        EDKit.addto!(view(mat, n+1:n+dims[i], m+1:m+dims[j]), blocks[i,j])\n",
    "        m += dims[j]\n",
    "    end\n",
    "    n += dims[i]\n",
    "end\n",
    "\n",
    "# original matrix\n",
    "mat0 = trans_inv_operator(h0, 2, L)\n",
    "\n",
    "# Eigen values\n",
    "vals0 = eigvals(Hermitian(mat0))\n",
    "vals = eigvals(Hermitian(mat))\n",
    "vals - vals0 |> norm"
   ]
  },
  {
   "attachments": {},
   "cell_type": "markdown",
   "metadata": {},
   "source": [
    "## Transformation\n",
    "Consider mapping a state in ($N,k$) sector to tensor-product basis, and then the reverse map from tensor basis back to translational basis."
   ]
  },
  {
   "cell_type": "code",
   "execution_count": 4,
   "metadata": {},
   "outputs": [
    {
     "name": "stdout",
     "output_type": "stream",
     "text": [
      "Dimension = 4\n",
      "--------------------------------------------------\n",
      "Ψ1 = |000111⟩; \n",
      "Basis: |"
     ]
    },
    {
     "name": "stdout",
     "output_type": "stream",
     "text": [
      "000111⟩; |001110⟩; |011100⟩; |100011⟩; |110001⟩; |111000⟩; \n",
      "Angle: θ₀ * "
     ]
    },
    {
     "name": "stdout",
     "output_type": "stream",
     "text": [
      "[0, 0, 0, 0, 0, 0]\n",
      "Norm: 1.0\n",
      "V1 = 1.0 * |000111⟩; \n",
      "--------------------------------------------------\n",
      "Ψ2 = |001011⟩; \n",
      "Basis: |001011⟩; |010110⟩; |011001⟩; |100101⟩; |101100⟩; |110010⟩; \n",
      "Angle: θ₀ * [0, 0, 0, 0, 0, 0]\n",
      "Norm: 1.0\n",
      "V1 = 1.0 * |001011⟩; \n",
      "--------------------------------------------------\n",
      "Ψ3 = |001101⟩; \n",
      "Basis: |001101⟩; |010011⟩; |011010⟩; |100110⟩; |101001⟩; |110100⟩; \n",
      "Angle: θ₀ * [0, 0, 0, 0, 0, 0]\n",
      "Norm: 1.0\n",
      "V1 = 1.0 * |001101⟩; \n",
      "--------------------------------------------------\n",
      "Ψ4 = |010101⟩; \n",
      "Basis: |010101⟩; |101010⟩; \n",
      "Angle: θ₀ * [0, 0]\n",
      "Norm: 1.0\n",
      "V1 = 1.0 * |010101⟩; \n"
     ]
    }
   ],
   "source": [
    "printdgt!(B, i) = (change!(B, i); print(\"|\"); print.(B.dgt); print(\"⟩; \"))\n",
    "function showinfo(;L, k, N=nothing, p=nothing)\n",
    "    B0 = TensorBasis(L=L)\n",
    "    B1 = if isnothing(N) \n",
    "        isnothing(p) ? TranslationalBasis(L=L, k=k) : TranslationParityBasis(L=L, k=k, p=p)\n",
    "    else\n",
    "        isnothing(p) ? TranslationalBasis(L=L, N=N, k=k) : TranslationParityBasis(L=L, N=N, k=k, p=p)\n",
    "    end\n",
    "    dim = size(B1, 1); println(\"Dimension = $dim\")\n",
    "    for x in 1:dim  # check all basis states in `B1`\n",
    "        println(\"--------------------------------------------------\")\n",
    "        v = zeros(dim); v[x] = 1; print(\"Ψ$x = \"); printdgt!(B1, x); print(\"\\n\")\n",
    "        v0 = DoubleBasis(B0, B1)(v)  # Map to tensor basis\n",
    "\n",
    "        print(\"Basis: \")  # Print the results\n",
    "        angles = Int[]\n",
    "        for i in eachindex(v0) \n",
    "            iszero(v0[i]) && continue\n",
    "            printdgt!(B0, i)\n",
    "            push!(angles, round(Int, angle(v0[i])*L/2/π) )\n",
    "        end\n",
    "        print(\"\\nAngle: θ₀ * \", angles, \"\\n\")\n",
    "        println(\"Norm: $(norm(v0))\")\n",
    "    \n",
    "        v1 = DoubleBasis(B1, B0)(v0)  # Map to translational basis \n",
    "        print(\"V1 = \")\n",
    "        for i in eachindex(v1) \n",
    "            iszero(v1[i]) ? continue : print(\"$(v1[i]) * \")\n",
    "            printdgt!(B1, i)\n",
    "        end\n",
    "        print(\"\\n\")\n",
    "    end\n",
    "end\n",
    "showinfo(L=6, N=3, k=0)"
   ]
  },
  {
   "attachments": {},
   "cell_type": "markdown",
   "metadata": {},
   "source": []
  },
  {
   "cell_type": "code",
   "execution_count": 5,
   "metadata": {},
   "outputs": [
    {
     "name": "stdout",
     "output_type": "stream",
     "text": [
      "Dimension = 3\n",
      "--------------------------------------------------\n",
      "Ψ1 = |000111⟩; \n",
      "Basis: |000111⟩; |001110⟩; |011100⟩; |100011⟩; |110001⟩; |111000⟩; \n",
      "Angle: θ₀ * [0, -1, -2, 1, 2, -3]\n",
      "Norm: 1.0000000000000002"
     ]
    },
    {
     "name": "stdout",
     "output_type": "stream",
     "text": [
      "\n",
      "V1 = 1.0 - 0.0im * |000111⟩; \n",
      "--------------------------------------------------\n",
      "Ψ2 = |001011⟩; \n",
      "Basis: |001011⟩; |010110⟩; |011001⟩; |100101⟩; |101100⟩; |110010⟩; \n",
      "Angle: θ₀ * [0, -1, -3, 1, -2, 2]\n",
      "Norm: 1.0000000000000002\n",
      "V1 = 1.0 - 0.0im * |001011⟩; \n",
      "--------------------------------------------------\n",
      "Ψ3 = |001101⟩; \n",
      "Basis: |001101⟩; |010011⟩; |011010⟩; |100110⟩; |101001⟩; |110100⟩; \n",
      "Angle: θ₀ * [0, 2, -1, 1, -3, -2]\n",
      "Norm: 1.0\n",
      "V1 = 1.0 + 0.0im * |001101⟩; \n"
     ]
    }
   ],
   "source": [
    "showinfo(L=6, N=3, k=1)"
   ]
  },
  {
   "cell_type": "code",
   "execution_count": 6,
   "metadata": {},
   "outputs": [
    {
     "name": "stdout",
     "output_type": "stream",
     "text": [
      "Dimension = 3\n",
      "--------------------------------------------------\n",
      "Ψ1 = |000111⟩; \n",
      "Basis: |000111⟩; |001110⟩; |011100⟩; |100011⟩; |110001⟩; |111000⟩; \n",
      "Angle: θ₀ * [0, -2, 2, 2, -2, 0]\n",
      "Norm: 1.0\n",
      "V1 = 1.0 + 0.0im * |000111⟩; \n",
      "--------------------------------------------------\n",
      "Ψ2 = |001011⟩; \n",
      "Basis: |001011⟩; |010110⟩; |011001⟩; |100101⟩; |101100⟩; |110010⟩; \n",
      "Angle: θ₀ * [0, -2, 0, 2, 2, -2]\n",
      "Norm: 1.0000000000000002\n",
      "V1 = 1.0 + 0.0im * |001011⟩; \n",
      "--------------------------------------------------\n",
      "Ψ3 = |001101⟩; \n",
      "Basis: |001101⟩; |010011⟩; |011010⟩; |100110⟩; |101001⟩; |110100⟩; \n",
      "Angle: θ₀ * [0, -2, -2, 2, 0, 2]\n",
      "Norm: 1.0000000000000002\n",
      "V1 = 1.0 - 0.0im * |001101⟩; \n"
     ]
    }
   ],
   "source": [
    "showinfo(L=6, N=3, k=2)"
   ]
  },
  {
   "cell_type": "code",
   "execution_count": 7,
   "metadata": {},
   "outputs": [
    {
     "name": "stdout",
     "output_type": "stream",
     "text": [
      "Dimension = 4\n",
      "--------------------------------------------------\n",
      "Ψ1 = |000111⟩; \n",
      "Basis: |000111⟩; |001110⟩; |011100⟩; |100011⟩; |110001⟩; |111000⟩; \n",
      "Angle: θ₀ * [0, 3, 0, 3, 0, 3]\n",
      "Norm: 1.0\n",
      "V1 = 1.0 * |000111⟩; \n",
      "--------------------------------------------------\n",
      "Ψ2 = |001011⟩; \n",
      "Basis: |001011⟩; |010110⟩; |011001⟩; |100101⟩; |101100⟩; |110010⟩; \n",
      "Angle: θ₀ * [0, 3, 3, 3, 0, 0]\n",
      "Norm: 1.0\n",
      "V1 = 1.0 * |001011⟩; \n",
      "--------------------------------------------------\n",
      "Ψ3 = |001101⟩; \n",
      "Basis: |001101⟩; |010011⟩; |011010⟩; |100110⟩; |101001⟩; |110100⟩; \n",
      "Angle: θ₀ * [0, 0, 3, 3, 3, 0]\n",
      "Norm: 1.0\n",
      "V1 = 1.0 * |001101⟩; \n",
      "--------------------------------------------------\n",
      "Ψ4 = |010101⟩; \n",
      "Basis: |010101⟩; |101010⟩; \n",
      "Angle: θ₀ * [0, 3]\n",
      "Norm: 1.0\n",
      "V1 = 1.0 * |010101⟩; \n"
     ]
    }
   ],
   "source": [
    "showinfo(L=6, N=3, k=3)"
   ]
  },
  {
   "cell_type": "code",
   "execution_count": 8,
   "metadata": {},
   "outputs": [
    {
     "name": "stdout",
     "output_type": "stream",
     "text": [
      "Dimension = 6\n",
      "--------------------------------------------------\n",
      "Ψ1 = |0000⟩; \n",
      "Basis: |0000⟩; \n",
      "Angle: θ₀ * [0]\n",
      "Norm: 1.0\n",
      "V1 = 1.0 * |0000⟩; \n",
      "--------------------------------------------------\n",
      "Ψ2 = |0001⟩; \n",
      "Basis: |0001⟩; |0010⟩; |0100⟩; |1000⟩; \n",
      "Angle: θ₀ * [0, 0, 0, 0]\n",
      "Norm: 1.0\n",
      "V1 = 1.0 * |0001⟩; \n",
      "--------------------------------------------------\n",
      "Ψ3 = |0011⟩; \n",
      "Basis: |0011⟩; |0110⟩; |1001⟩; |1100⟩; \n",
      "Angle: θ₀ * [0, 0, 0, 0]\n",
      "Norm: 1.0\n",
      "V1 = 1.0 * |0011⟩; \n",
      "--------------------------------------------------\n",
      "Ψ4 = |0101⟩; \n",
      "Basis: |0101⟩; |1010⟩; \n",
      "Angle: θ₀ * [0, 0]\n",
      "Norm: 0.9999999999999999\n",
      "V1 = 1.0 * |0101⟩; \n",
      "--------------------------------------------------\n",
      "Ψ5 = |0111⟩; \n",
      "Basis: |0111⟩; |1011⟩; |1101⟩; |1110⟩; \n",
      "Angle: θ₀ * [0, 0, 0, 0]\n",
      "Norm: 1.0\n",
      "V1 = 1.0 * |0111⟩; \n",
      "--------------------------------------------------\n",
      "Ψ6 = |1111⟩; \n",
      "Basis: |1111⟩; \n",
      "Angle: θ₀ * [0]\n",
      "Norm: 1.0\n",
      "V1 = 1.0 * |1111⟩; \n"
     ]
    }
   ],
   "source": [
    "showinfo(L=4, k=0)"
   ]
  },
  {
   "cell_type": "code",
   "execution_count": 9,
   "metadata": {},
   "outputs": [
    {
     "name": "stdout",
     "output_type": "stream",
     "text": [
      "Dimension = 3\n",
      "--------------------------------------------------\n",
      "Ψ1 = |0001⟩; \n",
      "Basis: |0001⟩; |0010⟩; |0100⟩; |1000⟩; \n",
      "Angle: θ₀ * [0, -1, -2, 1]\n",
      "Norm: 1.0\n",
      "V1 = 1.0 - 0.0im * |0001⟩; \n",
      "--------------------------------------------------\n",
      "Ψ2 = |0011⟩; \n",
      "Basis: |0011⟩; |0110⟩; |1001⟩; |1100⟩; \n",
      "Angle: θ₀ * [0, -1, 1, -2]\n",
      "Norm: 1.0\n",
      "V1 = 1.0 - 0.0im * |0011⟩; \n",
      "--------------------------------------------------\n",
      "Ψ3 = |0111⟩; \n",
      "Basis: |0111⟩; |1011⟩; |1101⟩; |1110⟩; \n",
      "Angle: θ₀ * [0, 1, -2, -1]\n",
      "Norm: 1.0\n",
      "V1 = 1.0 + 0.0im * |0111⟩; \n"
     ]
    }
   ],
   "source": [
    "showinfo(L=4, k=1)"
   ]
  },
  {
   "cell_type": "code",
   "execution_count": 10,
   "metadata": {},
   "outputs": [
    {
     "name": "stdout",
     "output_type": "stream",
     "text": [
      "Dimension = 4\n",
      "--------------------------------------------------\n",
      "Ψ1 = |0001⟩; \n",
      "Basis: |0001⟩; |0010⟩; |0100⟩; |1000⟩; \n",
      "Angle: θ₀ * [0, 2, 0, 2]\n",
      "Norm: 1.0\n",
      "V1 = 1.0 * |0001⟩; \n",
      "--------------------------------------------------\n",
      "Ψ2 = |0011⟩; \n",
      "Basis: |0011⟩; |0110⟩; |1001⟩; |1100⟩; \n",
      "Angle: θ₀ * [0, 2, 2, 0]\n",
      "Norm: 1.0\n",
      "V1 = 1.0 * |0011⟩; \n",
      "--------------------------------------------------\n",
      "Ψ3 = |0101⟩; \n",
      "Basis: |0101⟩; |1010⟩; \n",
      "Angle: θ₀ * [0, 2]\n",
      "Norm: 0.9999999999999999\n",
      "V1 = 1.0 * |0101⟩; \n",
      "--------------------------------------------------\n",
      "Ψ4 = |0111⟩; \n",
      "Basis: |0111⟩; |1011⟩; |1101⟩; |1110⟩; \n",
      "Angle: θ₀ * [0, 2, 0, 2]\n",
      "Norm: 1.0\n",
      "V1 = 1.0 * |0111⟩; \n"
     ]
    }
   ],
   "source": [
    "showinfo(L=4, k=2)"
   ]
  },
  {
   "attachments": {},
   "cell_type": "markdown",
   "metadata": {},
   "source": [
    "Now consider the map from ($N,k,p$) sector to tensor-product basis, and the reverse thereof."
   ]
  },
  {
   "cell_type": "code",
   "execution_count": 11,
   "metadata": {},
   "outputs": [
    {
     "name": "stdout",
     "output_type": "stream",
     "text": [
      "Dimension = 3\n",
      "--------------------------------------------------\n",
      "Ψ1 = |000111⟩; \n",
      "Basis: |000111⟩; |001110⟩; |011100⟩; |100011⟩; |110001⟩; |111000⟩; \n",
      "Angle: θ₀ * [0, 0, 0, 0, 0, 0]\n",
      "Norm: 1.0\n",
      "V1 = 1.0 * |000111⟩; \n",
      "--------------------------------------------------\n",
      "Ψ2 = |001011⟩; \n",
      "Basis: |001011⟩; |001101⟩; |010011⟩; |010110⟩; |011001⟩; |011010⟩; |100101⟩; |100110⟩; |101001⟩; |101100⟩; |110010⟩; |110100⟩; \n",
      "Angle: θ₀ * [0, 0, 0, 0, 0, 0, 0, 0, 0, 0, 0, 0]\n",
      "Norm: 1.0\n",
      "V1 = 1.0000000000000002 * |001011⟩; \n",
      "--------------------------------------------------\n",
      "Ψ3 = |010101⟩; \n",
      "Basis: |010101⟩; |101010⟩; \n",
      "Angle: θ₀ * [0, 0]\n",
      "Norm: 1.0\n",
      "V1 = 1.0 * |010101⟩; \n"
     ]
    }
   ],
   "source": [
    "showinfo(L=6, N=3, k=0, p=1)"
   ]
  },
  {
   "cell_type": "code",
   "execution_count": 12,
   "metadata": {},
   "outputs": [
    {
     "name": "stdout",
     "output_type": "stream",
     "text": [
      "Dimension = 1\n",
      "--------------------------------------------------\n",
      "Ψ1 = |001011⟩; \n",
      "Basis: |001011⟩; |001101⟩; |010011⟩; |010110⟩; |011001⟩; |011010⟩; |100101⟩; |100110⟩; |101001⟩; |101100⟩; |110010⟩; |110100⟩; \n",
      "Angle: θ₀ * [0, 3, 3, 0, 0, 3, 0, 3, 3, 0, 0, 3]\n",
      "Norm: 1.0\n",
      "V1 = 1.0000000000000002 * |001011⟩; \n"
     ]
    }
   ],
   "source": [
    "showinfo(L=6, N=3, k=0, p=-1)"
   ]
  }
 ],
 "metadata": {
  "kernelspec": {
   "display_name": "Julia 1.9.0",
   "language": "julia",
   "name": "julia-1.9"
  },
  "language_info": {
   "file_extension": ".jl",
   "mimetype": "application/julia",
   "name": "julia",
   "version": "1.9.0"
  },
  "orig_nbformat": 4
 },
 "nbformat": 4,
 "nbformat_minor": 2
}
