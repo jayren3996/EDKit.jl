{
 "cells": [
  {
   "attachments": {},
   "cell_type": "markdown",
   "metadata": {},
   "source": [
    "# Spin-1/2 XY model\n",
    "We consider the Hamiltonian\n",
    "$$\n",
    "H = \\sum_i (S_i^x S_{i+1}^x + S_i^y S_{i+1}^y).\n",
    "$$\n",
    "First, without considering any symmetry, we can construct the many-body Hamiltonian canonically, by creating:\n",
    "1. a list of local operator `mats`,\n",
    "2. a list of indices `inds` that specifies where the local operators act on,\n",
    "3. a `basis` object specify the Hilbert space.\n",
    "Without any symmetry, the basis is the tensor basis."
   ]
  },
  {
   "cell_type": "code",
   "execution_count": 1,
   "metadata": {},
   "outputs": [],
   "source": [
    "DEV = true\n",
    "if DEV    # use local package\n",
    "    include(\"../src/EDKit.jl\")\n",
    "    using .EDKit\n",
    "else      # use EDKit in the Pkg system\n",
    "    using EDKit\n",
    "end"
   ]
  },
  {
   "attachments": {},
   "cell_type": "markdown",
   "metadata": {},
   "source": [
    "## Construct Hamiltonian"
   ]
  },
  {
   "cell_type": "code",
   "execution_count": 2,
   "metadata": {},
   "outputs": [
    {
     "name": "stdout",
     "output_type": "stream",
     "text": [
      "Operator of size (1024, 1024) with 10 terms.\n"
     ]
    }
   ],
   "source": [
    "L = 10\n",
    "# the `spin` function helps create local operators.\n",
    "mat = spin((1, \"xx\"), (1, \"yy\"))\n",
    "mats = fill(mat, L)\n",
    "inds = [[i,mod(i,L)+1] for i in 1:L]\n",
    "basis = TensorBasis(L, base=2)\n",
    "H = operator(mats, inds, basis)"
   ]
  },
  {
   "attachments": {},
   "cell_type": "markdown",
   "metadata": {},
   "source": [
    "For translational invariant system, the function `trans_inv_operator`, the following constructions all work the same:"
   ]
  },
  {
   "cell_type": "code",
   "execution_count": 3,
   "metadata": {},
   "outputs": [
    {
     "name": "stdout",
     "output_type": "stream",
     "text": [
      "Operator of size (1024, 1024) with 10 terms.\n"
     ]
    }
   ],
   "source": [
    "H2 = trans_inv_operator(mat, 1:2, basis)\n",
    "H3 = trans_inv_operator(mat, 2, L)"
   ]
  },
  {
   "attachments": {},
   "cell_type": "markdown",
   "metadata": {},
   "source": [
    "## Operator object\n",
    "The `Operator` object works like a matrix. It can act on a vector:"
   ]
  },
  {
   "cell_type": "code",
   "execution_count": 4,
   "metadata": {},
   "outputs": [
    {
     "data": {
      "text/plain": [
       "Vector{Float64}\u001b[90m (alias for \u001b[39m\u001b[90mArray{Float64, 1}\u001b[39m\u001b[90m)\u001b[39m"
      ]
     },
     "metadata": {},
     "output_type": "display_data"
    }
   ],
   "source": [
    "vec = rand(1024)\n",
    "vec2 = H * vec\n",
    "typeof(vec2)"
   ]
  },
  {
   "attachments": {},
   "cell_type": "markdown",
   "metadata": {},
   "source": [
    "It can also be converted to ordinary matrix:"
   ]
  },
  {
   "cell_type": "code",
   "execution_count": 5,
   "metadata": {},
   "outputs": [
    {
     "data": {
      "text/plain": [
       "Matrix{Float64}\u001b[90m (alias for \u001b[39m\u001b[90mArray{Float64, 2}\u001b[39m\u001b[90m)\u001b[39m"
      ]
     },
     "metadata": {},
     "output_type": "display_data"
    }
   ],
   "source": [
    "H_mat = Array(H) \n",
    "typeof(H_mat)"
   ]
  },
  {
   "attachments": {},
   "cell_type": "markdown",
   "metadata": {},
   "source": [
    "We can obtain its eigen system by:"
   ]
  },
  {
   "cell_type": "code",
   "execution_count": 6,
   "metadata": {},
   "outputs": [],
   "source": [
    "using LinearAlgebra\n",
    "vals, vecs = eigen(Hermitian(H));"
   ]
  },
  {
   "attachments": {},
   "cell_type": "markdown",
   "metadata": {},
   "source": [
    "## Symmetries\n",
    "We can reduce the dimension of the many-body Hilbert space by imposing symmetry constraints. This is done by construct symmetric basis.\n",
    "\n",
    "For example, since XY model conserve total $S^z$, we can create the basis with $\\sum_i S_i^z = L/2$, by:"
   ]
  },
  {
   "cell_type": "code",
   "execution_count": 7,
   "metadata": {},
   "outputs": [
    {
     "data": {
      "text/plain": [
       "1024"
      ]
     },
     "metadata": {},
     "output_type": "display_data"
    }
   ],
   "source": [
    "basis2 = ProjectedBasis(L=L, N=L÷2)\n",
    "size(basis, 1)"
   ]
  },
  {
   "attachments": {},
   "cell_type": "markdown",
   "metadata": {},
   "source": [
    "We see the Hilbert space is now reduced to 252. The Hamiltonian can be constructed similarly:"
   ]
  },
  {
   "cell_type": "code",
   "execution_count": 8,
   "metadata": {},
   "outputs": [
    {
     "name": "stdout",
     "output_type": "stream",
     "text": [
      "Operator of size (252, 252) with 10 terms.\n"
     ]
    }
   ],
   "source": [
    "H2 = trans_inv_operator(mat, 2, basis2)"
   ]
  },
  {
   "attachments": {},
   "cell_type": "markdown",
   "metadata": {},
   "source": [
    "The translational symmetry can further reduce the dimension. If we consider the half-filled, $k=0$ subspace."
   ]
  },
  {
   "cell_type": "code",
   "execution_count": 9,
   "metadata": {},
   "outputs": [
    {
     "name": "stdout",
     "output_type": "stream",
     "text": [
      "Operator of size (26, 26) with 10 terms.\n"
     ]
    }
   ],
   "source": [
    "basis3 = TranslationalBasis(L=L, N=L÷2, k=0)\n",
    "H3 = trans_inv_operator(mat, 2, basis3)"
   ]
  },
  {
   "attachments": {},
   "cell_type": "markdown",
   "metadata": {},
   "source": [
    "We can also impose spatio reflection symmetry (choosing $p=+1$) by:"
   ]
  },
  {
   "cell_type": "code",
   "execution_count": 10,
   "metadata": {},
   "outputs": [
    {
     "name": "stdout",
     "output_type": "stream",
     "text": [
      "Operator of size (16, 16) with 10 terms.\n"
     ]
    }
   ],
   "source": [
    "basis4 = TranslationParityBasis(L=L, N=L÷2, k=0, p=1)\n",
    "H4 = trans_inv_operator(mat, 2, basis4)"
   ]
  },
  {
   "attachments": {},
   "cell_type": "markdown",
   "metadata": {},
   "source": [
    "## Entanglement"
   ]
  },
  {
   "attachments": {},
   "cell_type": "markdown",
   "metadata": {},
   "source": [
    "The basis object also helps to calculate the entanglement entropy of a many-body state in a specific symmetry sector. Consider now an eigenstate in the half-filled, $k=0$, and $p=+1$ sector:"
   ]
  },
  {
   "cell_type": "code",
   "execution_count": 11,
   "metadata": {},
   "outputs": [],
   "source": [
    "vals, vecs = eigen(Hermitian(H4))\n",
    "vec = vecs[:,1];"
   ]
  },
  {
   "attachments": {},
   "cell_type": "markdown",
   "metadata": {},
   "source": [
    "The bipartite entanglement entropy can be calculated using the `ent_S` function:"
   ]
  },
  {
   "cell_type": "code",
   "execution_count": 12,
   "metadata": {},
   "outputs": [
    {
     "data": {
      "text/plain": [
       "1.6602233536175888"
      ]
     },
     "metadata": {},
     "output_type": "display_data"
    }
   ],
   "source": [
    "S = ent_S(vec, 1:L÷2,  basis4)"
   ]
  }
 ],
 "metadata": {
  "kernelspec": {
   "display_name": "Julia 1.9.0",
   "language": "julia",
   "name": "julia-1.9"
  },
  "language_info": {
   "file_extension": ".jl",
   "mimetype": "application/julia",
   "name": "julia",
   "version": "1.9.0"
  },
  "orig_nbformat": 4
 },
 "nbformat": 4,
 "nbformat_minor": 2
}
