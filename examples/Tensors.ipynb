{
 "cells": [
  {
   "cell_type": "code",
   "execution_count": 1,
   "metadata": {},
   "outputs": [],
   "source": [
    "using LinearAlgebra, ITensors\n",
    "DEV = true\n",
    "if DEV    # use local package\n",
    "    include(\"../src/EDKit.jl\")\n",
    "    using .EDKit\n",
    "else      # use EDKit in the Pkg system\n",
    "    using EDKit\n",
    "end"
   ]
  },
  {
   "attachments": {},
   "cell_type": "markdown",
   "metadata": {},
   "source": [
    "# Matrix Product States"
   ]
  },
  {
   "attachments": {},
   "cell_type": "markdown",
   "metadata": {},
   "source": [
    "The following function transform a many-body wave function to and from an MPS."
   ]
  },
  {
   "cell_type": "code",
   "execution_count": 35,
   "metadata": {},
   "outputs": [
    {
     "data": {
      "text/plain": [
       "element (generic function with 2 methods)"
      ]
     },
     "metadata": {},
     "output_type": "display_data"
    }
   ],
   "source": [
    "function vec2mps(\n",
    "    vec::AbstractVector; \n",
    "    base::Integer=2, \n",
    "    L::Integer=round(Int, log(base, length(vec))), \n",
    "    cutoff::Real=1e-8, \n",
    "    maxdim::Integer=base^div(L, 2)\n",
    ")\n",
    "    sites = [Index(base, \"Site, n=$i\") for i in 1:L]\n",
    "    # reverse sites because Julia's column-major convention.\n",
    "    T = ITensor(reshape(vec, fill(base, L)...), reverse(sites))\n",
    "    MPS(T, sites; cutoff=cutoff, maxdim=maxdim)\n",
    "end\n",
    "\n",
    "function mps2vec(psi::MPS)\n",
    "    s = siteinds(psi)\n",
    "    T = prod(t for t in psi)\n",
    "    A = array(T, reverse(s))\n",
    "    A[:]\n",
    "end\n",
    "\n",
    "function element(psi::MPS, el::Union{<:AbstractVector, <:Tuple})\n",
    "    s = siteinds(psi)\n",
    "    V = ITensor(1.)\n",
    "    for j in eachindex(psi)\n",
    "        V *= psi[j] * state(s[j], el[j])\n",
    "    end\n",
    "    scalar(V)\n",
    "end\n",
    "element(psi::MPS, el::Integer...) = element(psi::MPS, el)"
   ]
  },
  {
   "cell_type": "code",
   "execution_count": 67,
   "metadata": {},
   "outputs": [
    {
     "name": "stdout",
     "output_type": "stream",
     "text": [
      "err1 = 1.1739862079479962e-16\n",
      "err2 = 9.232648246240546e-16\n"
     ]
    }
   ],
   "source": [
    "L = 4\n",
    "base = 3\n",
    "vec = rand(ComplexF64, base^L) |> normalize\n",
    "psi = vec2mps(vec, base=base)\n",
    "\n",
    "ind = rand(1:base, L)\n",
    "I = index(ind .- 1, base=base)\n",
    "err1 = abs(vec[I] - element(psi, ind))\n",
    "@show err1\n",
    "\n",
    "vec2 = mps2vec(psi)\n",
    "err2 = norm(vec-vec2)\n",
    "@show err2;"
   ]
  },
  {
   "cell_type": "code",
   "execution_count": null,
   "metadata": {},
   "outputs": [],
   "source": []
  }
 ],
 "metadata": {
  "kernelspec": {
   "display_name": "Julia 1.9.0",
   "language": "julia",
   "name": "julia-1.9"
  },
  "language_info": {
   "file_extension": ".jl",
   "mimetype": "application/julia",
   "name": "julia",
   "version": "1.9.0"
  },
  "orig_nbformat": 4
 },
 "nbformat": 4,
 "nbformat_minor": 2
}
