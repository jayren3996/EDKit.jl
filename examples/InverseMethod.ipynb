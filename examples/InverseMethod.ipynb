{
 "cells": [
  {
   "attachments": {},
   "cell_type": "markdown",
   "id": "dc35b90e",
   "metadata": {},
   "source": [
    "# Quantum Inverse method"
   ]
  },
  {
   "attachments": {},
   "cell_type": "markdown",
   "id": "7c837504",
   "metadata": {},
   "source": [
    "We will use the `Optim.jl` package for auto-diff optimization, and the `EDKit.jl` for exact diagonalization calculation."
   ]
  },
  {
   "cell_type": "code",
   "execution_count": 1,
   "id": "21dfb4bd",
   "metadata": {},
   "outputs": [],
   "source": [
    "using LinearAlgebra\n",
    "include(\"../src/EDKit.jl\")\n",
    "using Main.EDKit"
   ]
  },
  {
   "cell_type": "code",
   "execution_count": 2,
   "metadata": {},
   "outputs": [
    {
     "data": {
      "text/plain": [
       "target (generic function with 1 method)"
      ]
     },
     "metadata": {},
     "output_type": "display_data"
    }
   ],
   "source": [
    "opl = [\n",
    "    spin(\"xx\"), spin(\"xy\"), spin(\"xz\"),\n",
    "    spin(\"yx\"), spin(\"yy\"), spin(\"yz\"), \n",
    "    spin(\"zx\"), spin(\"zy\"), spin(\"zz\")\n",
    "]\n",
    "\n",
    "function target(B)\n",
    "    L = length(B)\n",
    "    m = zeros(size(B,1), L+1)\n",
    "    sm = trans_inv_operator(\"-\", B)\n",
    "    m[1,1] = 1.0\n",
    "    for i in 1:L\n",
    "        m[:, i+1] = sm * m[:, i] |> normalize!\n",
    "    end\n",
    "    m\n",
    "end"
   ]
  },
  {
   "cell_type": "code",
   "execution_count": 5,
   "id": "4d52c64f",
   "metadata": {},
   "outputs": [
    {
     "data": {
      "text/plain": [
       "9×4 Matrix{Float64}:\n",
       "  0.0   0.0   0.0  1.0\n",
       "  1.0   0.0   0.0  0.0\n",
       "  0.0   1.0   0.0  0.0\n",
       " -1.0   0.0   0.0  0.0\n",
       "  0.0   0.0   0.0  1.0\n",
       "  0.0   0.0   1.0  0.0\n",
       "  0.0  -1.0   0.0  0.0\n",
       "  0.0   0.0  -1.0  0.0\n",
       "  0.0   0.0   0.0  1.0"
      ]
     },
     "metadata": {},
     "output_type": "display_data"
    }
   ],
   "source": [
    "B = TensorBasis(L=10)\n",
    "qimsolve([trans_inv_operator(o, 2, B) for o in opl], target(B))"
   ]
  },
  {
   "cell_type": "code",
   "execution_count": 6,
   "metadata": {},
   "outputs": [
    {
     "data": {
      "text/plain": [
       "9×4 Matrix{Float64}:\n",
       "  0.0  1.0   0.0   0.0\n",
       "  1.0  0.0   0.0   0.0\n",
       "  0.0  0.0   0.0   1.0\n",
       " -1.0  0.0   0.0   0.0\n",
       "  0.0  1.0   0.0   0.0\n",
       "  0.0  0.0   1.0   0.0\n",
       "  0.0  0.0   0.0  -1.0\n",
       "  0.0  0.0  -1.0   0.0\n",
       "  0.0  1.0   0.0   0.0"
      ]
     },
     "metadata": {},
     "output_type": "display_data"
    }
   ],
   "source": [
    "B = TranslationalBasis(L=10)\n",
    "qimsolve([trans_inv_operator(o, 2, B) for o in opl], target(B))"
   ]
  },
  {
   "cell_type": "code",
   "execution_count": 7,
   "metadata": {},
   "outputs": [
    {
     "data": {
      "text/plain": [
       "9×1 Matrix{Float64}:\n",
       " 1.0\n",
       " 0.0\n",
       " 0.0\n",
       " 0.0\n",
       " 1.0\n",
       " 0.0\n",
       " 0.0\n",
       " 0.0\n",
       " 1.0000000000000004"
      ]
     },
     "metadata": {},
     "output_type": "display_data"
    }
   ],
   "source": [
    "B = TranslationParityBasis(L=10,p=1)\n",
    "qimsolve([trans_inv_operator(o, 2, B) for o in opl], target(B))"
   ]
  }
 ],
 "metadata": {
  "kernelspec": {
   "display_name": "Julia 1.9.0",
   "language": "julia",
   "name": "julia-1.9"
  },
  "language_info": {
   "file_extension": ".jl",
   "mimetype": "application/julia",
   "name": "julia",
   "version": "1.9.0"
  }
 },
 "nbformat": 4,
 "nbformat_minor": 5
}
